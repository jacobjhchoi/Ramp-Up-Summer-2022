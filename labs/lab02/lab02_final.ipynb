{
 "cells": [
  {
   "cell_type": "code",
   "execution_count": null,
   "metadata": {
    "deletable": false,
    "editable": false
   },
   "outputs": [],
   "source": [
    "# Initialize Otter\n",
    "import otter\n",
    "grader = otter.Notebook(\"lab02.ipynb\")"
   ]
  },
  {
   "cell_type": "markdown",
   "metadata": {},
   "source": [
    "# Lab 2: Table operations\n",
    "\n",
    "Welcome to Lab 2!  This week, we'll learn how to import a module and practice table operations!\n",
    "\n",
    "Recommended Reading:\n",
    " * [Introduction to tables](https://www.inferentialthinking.com/chapters/03/4/Introduction_to_Tables)\n",
    "\n",
    "First, set up the tests and imports by running the cell below."
   ]
  },
  {
   "cell_type": "code",
   "execution_count": 1,
   "metadata": {},
   "outputs": [],
   "source": [
    "# Just run this cell\n",
    "from datascience import *"
   ]
  },
  {
   "cell_type": "markdown",
   "metadata": {},
   "source": [
    "# 3. Table operations\n",
    "\n",
    "The table `farmers_markets.csv` contains data on farmers' markets in the United States  (data collected [by the USDA](https://apps.ams.usda.gov/FarmersMarketsExport/ExcelExport.aspx)).  Each row represents one such market.\n",
    "\n",
    "Run the next cell to load the `farmers_markets` table."
   ]
  },
  {
   "cell_type": "code",
   "execution_count": 2,
   "metadata": {},
   "outputs": [],
   "source": [
    "# Just run this cell\n",
    "\n",
    "farmers_markets = Table.read_table('farmers_markets.csv')"
   ]
  },
  {
   "cell_type": "markdown",
   "metadata": {},
   "source": [
    "Let's examine our table to see what data it contains.\n",
    "\n",
    "**Question 3.1.** Use the method `show` to display the first 5 rows of `farmers_markets`. \n",
    "\n",
    "*Note:* The terms \"method\" and \"function\" are technically not the same thing, but for the purposes of this course, we will use them interchangeably.\n",
    "\n",
    "**Hint:** `tbl.show(3)` will show the first 3 rows of `tbl`. Additionally, make sure not to call `.show()` without an argument, as this will crash your kernel!\n"
   ]
  },
  {
   "cell_type": "code",
   "execution_count": 3,
   "metadata": {},
   "outputs": [
    {
     "data": {
      "text/html": [
       "<table border=\"1\" class=\"dataframe\">\n",
       "    <thead>\n",
       "        <tr>\n",
       "            <th>FMID</th> <th>MarketName</th> <th>street</th> <th>city</th> <th>County</th> <th>State</th> <th>zip</th> <th>x</th> <th>y</th> <th>Website</th> <th>Facebook</th> <th>Twitter</th> <th>Youtube</th> <th>OtherMedia</th> <th>Organic</th> <th>Tofu</th> <th>Bakedgoods</th> <th>Cheese</th> <th>Crafts</th> <th>Flowers</th> <th>Eggs</th> <th>Seafood</th> <th>Herbs</th> <th>Vegetables</th> <th>Honey</th> <th>Jams</th> <th>Maple</th> <th>Meat</th> <th>Nursery</th> <th>Nuts</th> <th>Plants</th> <th>Poultry</th> <th>Prepared</th> <th>Soap</th> <th>Trees</th> <th>Wine</th> <th>Coffee</th> <th>Beans</th> <th>Fruits</th> <th>Grains</th> <th>Juices</th> <th>Mushrooms</th> <th>PetFood</th> <th>WildHarvested</th> <th>updateTime</th> <th>Location</th> <th>Credit</th> <th>WIC</th> <th>WICcash</th> <th>SFMNP</th> <th>SNAP</th> <th>Season1Date</th> <th>Season1Time</th> <th>Season2Date</th> <th>Season2Time</th> <th>Season3Date</th> <th>Season3Time</th> <th>Season4Date</th> <th>Season4Time</th>\n",
       "        </tr>\n",
       "    </thead>\n",
       "    <tbody>\n",
       "        <tr>\n",
       "            <td>1012063</td> <td> Caledonia Farmers Market Association - Danville</td> <td>nan                   </td> <td>Danville </td> <td>Caledonia</td> <td>Vermont       </td> <td>05828</td> <td>-72.1403</td> <td>44.411 </td> <td>https://sites.google.com/site/caledoniafarmersmarket/</td> <td>https://www.facebook.com/Danville.VT.Farmers.Market/</td> <td>nan    </td> <td>nan    </td> <td>nan                                                         </td> <td>Y      </td> <td>N   </td> <td>Y         </td> <td>Y     </td> <td>Y     </td> <td>Y      </td> <td>Y   </td> <td>N      </td> <td>Y    </td> <td>Y         </td> <td>Y    </td> <td>Y   </td> <td>Y    </td> <td>Y   </td> <td>N      </td> <td>N   </td> <td>Y     </td> <td>Y      </td> <td>Y       </td> <td>Y   </td> <td>Y    </td> <td>N   </td> <td>Y     </td> <td>Y    </td> <td>Y     </td> <td>N     </td> <td>Y     </td> <td>N        </td> <td>Y      </td> <td>N            </td> <td>6/28/2016 12:10:09 PM</td> <td>nan     </td> <td>Y     </td> <td>Y   </td> <td>N      </td> <td>Y    </td> <td>N   </td> <td>06/08/2016 to 10/12/2016</td> <td>Wed: 9:00 AM-1:00 PM;                     </td> <td>nan        </td> <td>nan        </td> <td>nan        </td> <td>nan        </td> <td>nan        </td> <td>nan        </td>\n",
       "        </tr>\n",
       "        <tr>\n",
       "            <td>1011871</td> <td> Stearns Homestead Farmers' Market              </td> <td>6975 Ridge Road       </td> <td>Parma    </td> <td>Cuyahoga </td> <td>Ohio          </td> <td>44130</td> <td>-81.7286</td> <td>41.3751</td> <td>http://Stearnshomestead.com                          </td> <td>nan                                                 </td> <td>nan    </td> <td>nan    </td> <td>nan                                                         </td> <td>-      </td> <td>N   </td> <td>Y         </td> <td>N     </td> <td>N     </td> <td>Y      </td> <td>Y   </td> <td>N      </td> <td>Y    </td> <td>Y         </td> <td>Y    </td> <td>Y   </td> <td>Y    </td> <td>Y   </td> <td>N      </td> <td>N   </td> <td>Y     </td> <td>N      </td> <td>N       </td> <td>N   </td> <td>N    </td> <td>N   </td> <td>N     </td> <td>N    </td> <td>Y     </td> <td>N     </td> <td>N     </td> <td>N        </td> <td>Y      </td> <td>N            </td> <td>4/9/2016 8:05:17 PM  </td> <td>nan     </td> <td>Y     </td> <td>Y   </td> <td>N      </td> <td>Y    </td> <td>Y   </td> <td>06/25/2016 to 10/01/2016</td> <td>Sat: 9:00 AM-1:00 PM;                     </td> <td>nan        </td> <td>nan        </td> <td>nan        </td> <td>nan        </td> <td>nan        </td> <td>nan        </td>\n",
       "        </tr>\n",
       "        <tr>\n",
       "            <td>1011878</td> <td>100 Mile Market                                 </td> <td>507 Harrison St       </td> <td>Kalamazoo</td> <td>Kalamazoo</td> <td>Michigan      </td> <td>49007</td> <td>-85.5749</td> <td>42.296 </td> <td>http://www.pfcmarkets.com                            </td> <td>https://www.facebook.com/100MileMarket/?fref=ts     </td> <td>nan    </td> <td>nan    </td> <td>https://www.instagram.com/100milemarket/                    </td> <td>N      </td> <td>N   </td> <td>Y         </td> <td>Y     </td> <td>N     </td> <td>Y      </td> <td>Y   </td> <td>N      </td> <td>Y    </td> <td>Y         </td> <td>Y    </td> <td>Y   </td> <td>Y    </td> <td>Y   </td> <td>N      </td> <td>N   </td> <td>N     </td> <td>Y      </td> <td>Y       </td> <td>Y   </td> <td>N    </td> <td>Y   </td> <td>N     </td> <td>N    </td> <td>Y     </td> <td>Y     </td> <td>N     </td> <td>N        </td> <td>N      </td> <td>N            </td> <td>4/16/2016 12:37:56 PM</td> <td>nan     </td> <td>Y     </td> <td>Y   </td> <td>N      </td> <td>Y    </td> <td>Y   </td> <td>05/04/2016 to 10/12/2016</td> <td>Wed: 3:00 PM-7:00 PM;                     </td> <td>nan        </td> <td>nan        </td> <td>nan        </td> <td>nan        </td> <td>nan        </td> <td>nan        </td>\n",
       "        </tr>\n",
       "        <tr>\n",
       "            <td>1009364</td> <td>106 S. Main Street Farmers Market               </td> <td>106 S. Main Street    </td> <td>Six Mile </td> <td>nan      </td> <td>South Carolina</td> <td>29682</td> <td>-82.8187</td> <td>34.8042</td> <td>http://thetownofsixmile.wordpress.com/               </td> <td>nan                                                 </td> <td>nan    </td> <td>nan    </td> <td>nan                                                         </td> <td>-      </td> <td>N   </td> <td>N         </td> <td>N     </td> <td>N     </td> <td>N      </td> <td>N   </td> <td>N      </td> <td>N    </td> <td>N         </td> <td>N    </td> <td>N   </td> <td>N    </td> <td>N   </td> <td>N      </td> <td>N   </td> <td>N     </td> <td>N      </td> <td>N       </td> <td>N   </td> <td>N    </td> <td>N   </td> <td>N     </td> <td>N    </td> <td>N     </td> <td>N     </td> <td>N     </td> <td>N        </td> <td>N      </td> <td>N            </td> <td>2013                 </td> <td>nan     </td> <td>Y     </td> <td>N   </td> <td>N      </td> <td>N    </td> <td>N   </td> <td>nan                     </td> <td>nan                                       </td> <td>nan        </td> <td>nan        </td> <td>nan        </td> <td>nan        </td> <td>nan        </td> <td>nan        </td>\n",
       "        </tr>\n",
       "        <tr>\n",
       "            <td>1010691</td> <td>10th Steet Community Farmers Market             </td> <td>10th Street and Poplar</td> <td>Lamar    </td> <td>Barton   </td> <td>Missouri      </td> <td>64759</td> <td>-94.2746</td> <td>37.4956</td> <td>nan                                                  </td> <td>nan                                                 </td> <td>nan    </td> <td>nan    </td> <td>http://agrimissouri.com/mo-grown/grodetail.php?type=mo-g ...</td> <td>-      </td> <td>N   </td> <td>Y         </td> <td>N     </td> <td>Y     </td> <td>N      </td> <td>Y   </td> <td>N      </td> <td>Y    </td> <td>Y         </td> <td>Y    </td> <td>Y   </td> <td>N    </td> <td>Y   </td> <td>N      </td> <td>N   </td> <td>Y     </td> <td>Y      </td> <td>Y       </td> <td>Y   </td> <td>N    </td> <td>N   </td> <td>N     </td> <td>N    </td> <td>Y     </td> <td>N     </td> <td>N     </td> <td>N        </td> <td>N      </td> <td>N            </td> <td>10/28/2014 9:49:46 AM</td> <td>nan     </td> <td>Y     </td> <td>N   </td> <td>N      </td> <td>N    </td> <td>N   </td> <td>04/02/2014 to 11/30/2014</td> <td>Wed: 3:00 PM-6:00 PM;Sat: 8:00 AM-1:00 PM;</td> <td>nan        </td> <td>nan        </td> <td>nan        </td> <td>nan        </td> <td>nan        </td> <td>nan        </td>\n",
       "        </tr>\n",
       "    </tbody>\n",
       "</table>\n",
       "<p>... (8541 rows omitted)</p>"
      ],
      "text/plain": [
       "<IPython.core.display.HTML object>"
      ]
     },
     "metadata": {},
     "output_type": "display_data"
    }
   ],
   "source": [
    "farmers_markets.show(5)"
   ]
  },
  {
   "cell_type": "markdown",
   "metadata": {
    "deletable": false,
    "editable": false
   },
   "source": [
    "Notice that some of the values in this table are missing, as denoted by \"nan.\" This means either that the value is not available (e.g. if we don’t know the market’s street address) or not applicable (e.g. if the market doesn’t have a street address). You'll also notice that the table has a large number of columns in it!\n",
    "\n",
    "### `num_columns`\n",
    "\n",
    "The table property `num_columns` returns the number of columns in a table. (A \"property\" is just a method that doesn't need to be called by adding parentheses.)\n",
    "\n",
    "Example call: `<tbl>.num_columns`\n",
    "\n",
    "**Question 3.2.** Use `num_columns` to find the number of columns in our farmers' markets dataset.\n",
    "\n",
    "Assign the number of columns to `num_farmers_markets_columns`.\n",
    "\n",
    "<!--\n",
    "BEGIN QUESTION\n",
    "name: q32\n",
    "-->"
   ]
  },
  {
   "cell_type": "code",
   "execution_count": 4,
   "metadata": {},
   "outputs": [
    {
     "name": "stdout",
     "output_type": "stream",
     "text": [
      "The table has 59 columns in it!\n"
     ]
    }
   ],
   "source": [
    "num_farmers_markets_columns = farmers_markets.num_columns\n",
    "print(\"The table has\", num_farmers_markets_columns, \"columns in it!\")"
   ]
  },
  {
   "cell_type": "code",
   "execution_count": null,
   "metadata": {
    "deletable": false,
    "editable": false
   },
   "outputs": [],
   "source": [
    "grader.check(\"q32\")"
   ]
  },
  {
   "cell_type": "markdown",
   "metadata": {},
   "source": [
    "### `num_rows`\n",
    "\n",
    "Similarly, the property `num_rows` tells you how many rows are in a table."
   ]
  },
  {
   "cell_type": "code",
   "execution_count": 5,
   "metadata": {},
   "outputs": [
    {
     "name": "stdout",
     "output_type": "stream",
     "text": [
      "The table has 8546 rows in it!\n"
     ]
    }
   ],
   "source": [
    "# Just run this cell\n",
    "\n",
    "num_farmers_markets_rows = farmers_markets.num_rows\n",
    "print(\"The table has\", num_farmers_markets_rows, \"rows in it!\")"
   ]
  },
  {
   "cell_type": "markdown",
   "metadata": {
    "deletable": false,
    "editable": false
   },
   "source": [
    "### `select`\n",
    "\n",
    "Most of the columns are about particular products -- whether the market sells tofu, pet food, etc.  If we're not interested in that information, it just makes the table difficult to read.  This comes up more than you might think, because people who collect and publish data may not know ahead of time what people will want to do with it.\n",
    "\n",
    "In such situations, we can use the table method `select` to choose only the columns that we want in a particular table. It takes any number of arguments. Each should be the name of a column in the table. It returns a new table with only those columns in it. The columns are in the order *in which they were listed as arguments*.\n",
    "\n",
    "For example, the value of `farmers_markets.select(\"MarketName\", \"State\")` is a table with only the name and the state of each farmers' market in `farmers_markets`.\n",
    "\n",
    "\n",
    "\n",
    "**Question 3.3.** Use `select` to create a table with only the name, city, state, latitude (`y`), and longitude (`x`) of each market.  Call that new table `farmers_markets_locations`.\n",
    "\n",
    "*Hint:* Make sure to be exact when using column names with `select`; double-check capitalization!\n",
    "\n",
    "<!--\n",
    "BEGIN QUESTION\n",
    "name: q33\n",
    "-->"
   ]
  },
  {
   "cell_type": "code",
   "execution_count": 6,
   "metadata": {},
   "outputs": [
    {
     "data": {
      "text/html": [
       "<table border=\"1\" class=\"dataframe\">\n",
       "    <thead>\n",
       "        <tr>\n",
       "            <th>MarketName</th> <th>city</th> <th>State</th> <th>y</th> <th>x</th>\n",
       "        </tr>\n",
       "    </thead>\n",
       "    <tbody>\n",
       "        <tr>\n",
       "            <td> Caledonia Farmers Market Association - Danville</td> <td>Danville  </td> <td>Vermont             </td> <td>44.411 </td> <td>-72.1403</td>\n",
       "        </tr>\n",
       "        <tr>\n",
       "            <td> Stearns Homestead Farmers' Market              </td> <td>Parma     </td> <td>Ohio                </td> <td>41.3751</td> <td>-81.7286</td>\n",
       "        </tr>\n",
       "        <tr>\n",
       "            <td>100 Mile Market                                 </td> <td>Kalamazoo </td> <td>Michigan            </td> <td>42.296 </td> <td>-85.5749</td>\n",
       "        </tr>\n",
       "        <tr>\n",
       "            <td>106 S. Main Street Farmers Market               </td> <td>Six Mile  </td> <td>South Carolina      </td> <td>34.8042</td> <td>-82.8187</td>\n",
       "        </tr>\n",
       "        <tr>\n",
       "            <td>10th Steet Community Farmers Market             </td> <td>Lamar     </td> <td>Missouri            </td> <td>37.4956</td> <td>-94.2746</td>\n",
       "        </tr>\n",
       "        <tr>\n",
       "            <td>112st Madison Avenue                            </td> <td>New York  </td> <td>New York            </td> <td>40.7939</td> <td>-73.9493</td>\n",
       "        </tr>\n",
       "        <tr>\n",
       "            <td>12 South Farmers Market                         </td> <td>Nashville </td> <td>Tennessee           </td> <td>36.1184</td> <td>-86.7907</td>\n",
       "        </tr>\n",
       "        <tr>\n",
       "            <td>125th Street Fresh Connect Farmers' Market      </td> <td>New York  </td> <td>New York            </td> <td>40.809 </td> <td>-73.9482</td>\n",
       "        </tr>\n",
       "        <tr>\n",
       "            <td>12th & Brandywine Urban Farm Market             </td> <td>Wilmington</td> <td>Delaware            </td> <td>39.7421</td> <td>-75.5345</td>\n",
       "        </tr>\n",
       "        <tr>\n",
       "            <td>14&U Farmers' Market                            </td> <td>Washington</td> <td>District of Columbia</td> <td>38.917 </td> <td>-77.0321</td>\n",
       "        </tr>\n",
       "    </tbody>\n",
       "</table>\n",
       "<p>... (8536 rows omitted)</p>"
      ],
      "text/plain": [
       "MarketName                                       | city       | State                | y       | x\n",
       " Caledonia Farmers Market Association - Danville | Danville   | Vermont              | 44.411  | -72.1403\n",
       " Stearns Homestead Farmers' Market               | Parma      | Ohio                 | 41.3751 | -81.7286\n",
       "100 Mile Market                                  | Kalamazoo  | Michigan             | 42.296  | -85.5749\n",
       "106 S. Main Street Farmers Market                | Six Mile   | South Carolina       | 34.8042 | -82.8187\n",
       "10th Steet Community Farmers Market              | Lamar      | Missouri             | 37.4956 | -94.2746\n",
       "112st Madison Avenue                             | New York   | New York             | 40.7939 | -73.9493\n",
       "12 South Farmers Market                          | Nashville  | Tennessee            | 36.1184 | -86.7907\n",
       "125th Street Fresh Connect Farmers' Market       | New York   | New York             | 40.809  | -73.9482\n",
       "12th & Brandywine Urban Farm Market              | Wilmington | Delaware             | 39.7421 | -75.5345\n",
       "14&U Farmers' Market                             | Washington | District of Columbia | 38.917  | -77.0321\n",
       "... (8536 rows omitted)"
      ]
     },
     "execution_count": 6,
     "metadata": {},
     "output_type": "execute_result"
    }
   ],
   "source": [
    "farmers_markets_locations = farmers_markets.select(\"MarketName\", \"city\", \"State\", \"y\", \"x\")\n",
    "farmers_markets_locations"
   ]
  },
  {
   "cell_type": "code",
   "execution_count": null,
   "metadata": {
    "deletable": false,
    "editable": false
   },
   "outputs": [],
   "source": [
    "grader.check(\"q33\")"
   ]
  },
  {
   "cell_type": "markdown",
   "metadata": {
    "deletable": false,
    "editable": false
   },
   "source": [
    "### `drop`\n",
    "\n",
    "`drop` serves the same purpose as `select`, but it takes away the columns that you provide rather than the ones that you don't provide. Like `select`, `drop` returns a new table.\n",
    "\n",
    "**Question 3.4.** Suppose you just didn't want the `FMID` and `updateTime` columns in `farmers_markets`.  Create a table that's a copy of `farmers_markets` but doesn't include those columns.  Call that table `farmers_markets_without_fmid`.\n",
    "\n",
    "<!--\n",
    "BEGIN QUESTION\n",
    "name: q34\n",
    "-->"
   ]
  },
  {
   "cell_type": "code",
   "execution_count": 7,
   "metadata": {},
   "outputs": [
    {
     "data": {
      "text/html": [
       "<table border=\"1\" class=\"dataframe\">\n",
       "    <thead>\n",
       "        <tr>\n",
       "            <th>MarketName</th> <th>street</th> <th>city</th> <th>County</th> <th>State</th> <th>zip</th> <th>x</th> <th>y</th> <th>Website</th> <th>Facebook</th> <th>Twitter</th> <th>Youtube</th> <th>OtherMedia</th> <th>Organic</th> <th>Tofu</th> <th>Bakedgoods</th> <th>Cheese</th> <th>Crafts</th> <th>Flowers</th> <th>Eggs</th> <th>Seafood</th> <th>Herbs</th> <th>Vegetables</th> <th>Honey</th> <th>Jams</th> <th>Maple</th> <th>Meat</th> <th>Nursery</th> <th>Nuts</th> <th>Plants</th> <th>Poultry</th> <th>Prepared</th> <th>Soap</th> <th>Trees</th> <th>Wine</th> <th>Coffee</th> <th>Beans</th> <th>Fruits</th> <th>Grains</th> <th>Juices</th> <th>Mushrooms</th> <th>PetFood</th> <th>WildHarvested</th> <th>Location</th> <th>Credit</th> <th>WIC</th> <th>WICcash</th> <th>SFMNP</th> <th>SNAP</th> <th>Season1Date</th> <th>Season1Time</th> <th>Season2Date</th> <th>Season2Time</th> <th>Season3Date</th> <th>Season3Time</th> <th>Season4Date</th> <th>Season4Time</th>\n",
       "        </tr>\n",
       "    </thead>\n",
       "    <tbody>\n",
       "        <tr>\n",
       "            <td> Caledonia Farmers Market Association - Danville</td> <td>nan                                                     </td> <td>Danville  </td> <td>Caledonia           </td> <td>Vermont             </td> <td>05828</td> <td>-72.1403</td> <td>44.411 </td> <td>https://sites.google.com/site/caledoniafarmersmarket/</td> <td>https://www.facebook.com/Danville.VT.Farmers.Market/        </td> <td>nan                                </td> <td>nan    </td> <td>nan                                                         </td> <td>Y      </td> <td>N   </td> <td>Y         </td> <td>Y     </td> <td>Y     </td> <td>Y      </td> <td>Y   </td> <td>N      </td> <td>Y    </td> <td>Y         </td> <td>Y    </td> <td>Y   </td> <td>Y    </td> <td>Y   </td> <td>N      </td> <td>N   </td> <td>Y     </td> <td>Y      </td> <td>Y       </td> <td>Y   </td> <td>Y    </td> <td>N   </td> <td>Y     </td> <td>Y    </td> <td>Y     </td> <td>N     </td> <td>Y     </td> <td>N        </td> <td>Y      </td> <td>N            </td> <td>nan                                                       </td> <td>Y     </td> <td>Y   </td> <td>N      </td> <td>Y    </td> <td>N   </td> <td>06/08/2016 to 10/12/2016</td> <td>Wed: 9:00 AM-1:00 PM;                       </td> <td>nan        </td> <td>nan        </td> <td>nan        </td> <td>nan        </td> <td>nan        </td> <td>nan        </td>\n",
       "        </tr>\n",
       "        <tr>\n",
       "            <td> Stearns Homestead Farmers' Market              </td> <td>6975 Ridge Road                                         </td> <td>Parma     </td> <td>Cuyahoga            </td> <td>Ohio                </td> <td>44130</td> <td>-81.7286</td> <td>41.3751</td> <td>http://Stearnshomestead.com                          </td> <td>nan                                                         </td> <td>nan                                </td> <td>nan    </td> <td>nan                                                         </td> <td>-      </td> <td>N   </td> <td>Y         </td> <td>N     </td> <td>N     </td> <td>Y      </td> <td>Y   </td> <td>N      </td> <td>Y    </td> <td>Y         </td> <td>Y    </td> <td>Y   </td> <td>Y    </td> <td>Y   </td> <td>N      </td> <td>N   </td> <td>Y     </td> <td>N      </td> <td>N       </td> <td>N   </td> <td>N    </td> <td>N   </td> <td>N     </td> <td>N    </td> <td>Y     </td> <td>N     </td> <td>N     </td> <td>N        </td> <td>Y      </td> <td>N            </td> <td>nan                                                       </td> <td>Y     </td> <td>Y   </td> <td>N      </td> <td>Y    </td> <td>Y   </td> <td>06/25/2016 to 10/01/2016</td> <td>Sat: 9:00 AM-1:00 PM;                       </td> <td>nan        </td> <td>nan        </td> <td>nan        </td> <td>nan        </td> <td>nan        </td> <td>nan        </td>\n",
       "        </tr>\n",
       "        <tr>\n",
       "            <td>100 Mile Market                                 </td> <td>507 Harrison St                                         </td> <td>Kalamazoo </td> <td>Kalamazoo           </td> <td>Michigan            </td> <td>49007</td> <td>-85.5749</td> <td>42.296 </td> <td>http://www.pfcmarkets.com                            </td> <td>https://www.facebook.com/100MileMarket/?fref=ts             </td> <td>nan                                </td> <td>nan    </td> <td>https://www.instagram.com/100milemarket/                    </td> <td>N      </td> <td>N   </td> <td>Y         </td> <td>Y     </td> <td>N     </td> <td>Y      </td> <td>Y   </td> <td>N      </td> <td>Y    </td> <td>Y         </td> <td>Y    </td> <td>Y   </td> <td>Y    </td> <td>Y   </td> <td>N      </td> <td>N   </td> <td>N     </td> <td>Y      </td> <td>Y       </td> <td>Y   </td> <td>N    </td> <td>Y   </td> <td>N     </td> <td>N    </td> <td>Y     </td> <td>Y     </td> <td>N     </td> <td>N        </td> <td>N      </td> <td>N            </td> <td>nan                                                       </td> <td>Y     </td> <td>Y   </td> <td>N      </td> <td>Y    </td> <td>Y   </td> <td>05/04/2016 to 10/12/2016</td> <td>Wed: 3:00 PM-7:00 PM;                       </td> <td>nan        </td> <td>nan        </td> <td>nan        </td> <td>nan        </td> <td>nan        </td> <td>nan        </td>\n",
       "        </tr>\n",
       "        <tr>\n",
       "            <td>106 S. Main Street Farmers Market               </td> <td>106 S. Main Street                                      </td> <td>Six Mile  </td> <td>nan                 </td> <td>South Carolina      </td> <td>29682</td> <td>-82.8187</td> <td>34.8042</td> <td>http://thetownofsixmile.wordpress.com/               </td> <td>nan                                                         </td> <td>nan                                </td> <td>nan    </td> <td>nan                                                         </td> <td>-      </td> <td>N   </td> <td>N         </td> <td>N     </td> <td>N     </td> <td>N      </td> <td>N   </td> <td>N      </td> <td>N    </td> <td>N         </td> <td>N    </td> <td>N   </td> <td>N    </td> <td>N   </td> <td>N      </td> <td>N   </td> <td>N     </td> <td>N      </td> <td>N       </td> <td>N   </td> <td>N    </td> <td>N   </td> <td>N     </td> <td>N    </td> <td>N     </td> <td>N     </td> <td>N     </td> <td>N        </td> <td>N      </td> <td>N            </td> <td>nan                                                       </td> <td>Y     </td> <td>N   </td> <td>N      </td> <td>N    </td> <td>N   </td> <td>nan                     </td> <td>nan                                         </td> <td>nan        </td> <td>nan        </td> <td>nan        </td> <td>nan        </td> <td>nan        </td> <td>nan        </td>\n",
       "        </tr>\n",
       "        <tr>\n",
       "            <td>10th Steet Community Farmers Market             </td> <td>10th Street and Poplar                                  </td> <td>Lamar     </td> <td>Barton              </td> <td>Missouri            </td> <td>64759</td> <td>-94.2746</td> <td>37.4956</td> <td>nan                                                  </td> <td>nan                                                         </td> <td>nan                                </td> <td>nan    </td> <td>http://agrimissouri.com/mo-grown/grodetail.php?type=mo-g ...</td> <td>-      </td> <td>N   </td> <td>Y         </td> <td>N     </td> <td>Y     </td> <td>N      </td> <td>Y   </td> <td>N      </td> <td>Y    </td> <td>Y         </td> <td>Y    </td> <td>Y   </td> <td>N    </td> <td>Y   </td> <td>N      </td> <td>N   </td> <td>Y     </td> <td>Y      </td> <td>Y       </td> <td>Y   </td> <td>N    </td> <td>N   </td> <td>N     </td> <td>N    </td> <td>Y     </td> <td>N     </td> <td>N     </td> <td>N        </td> <td>N      </td> <td>N            </td> <td>nan                                                       </td> <td>Y     </td> <td>N   </td> <td>N      </td> <td>N    </td> <td>N   </td> <td>04/02/2014 to 11/30/2014</td> <td>Wed: 3:00 PM-6:00 PM;Sat: 8:00 AM-1:00 PM;  </td> <td>nan        </td> <td>nan        </td> <td>nan        </td> <td>nan        </td> <td>nan        </td> <td>nan        </td>\n",
       "        </tr>\n",
       "        <tr>\n",
       "            <td>112st Madison Avenue                            </td> <td>112th Madison Avenue                                    </td> <td>New York  </td> <td>New York            </td> <td>New York            </td> <td>10029</td> <td>-73.9493</td> <td>40.7939</td> <td>nan                                                  </td> <td>nan                                                         </td> <td>nan                                </td> <td>nan    </td> <td>nan                                                         </td> <td>-      </td> <td>N   </td> <td>Y         </td> <td>N     </td> <td>Y     </td> <td>Y      </td> <td>N   </td> <td>N      </td> <td>Y    </td> <td>Y         </td> <td>Y    </td> <td>Y   </td> <td>N    </td> <td>N   </td> <td>N      </td> <td>Y   </td> <td>N     </td> <td>N      </td> <td>Y       </td> <td>Y   </td> <td>N    </td> <td>N   </td> <td>N     </td> <td>N    </td> <td>N     </td> <td>N     </td> <td>N     </td> <td>N        </td> <td>N      </td> <td>N            </td> <td>Private business parking lot                              </td> <td>N     </td> <td>N   </td> <td>Y      </td> <td>Y    </td> <td>N   </td> <td>July to November        </td> <td>Tue:8:00 am - 5:00 pm;Sat:8:00 am - 8:00 pm;</td> <td>nan        </td> <td>nan        </td> <td>nan        </td> <td>nan        </td> <td>nan        </td> <td>nan        </td>\n",
       "        </tr>\n",
       "        <tr>\n",
       "            <td>12 South Farmers Market                         </td> <td>3000 Granny White Pike                                  </td> <td>Nashville </td> <td>Davidson            </td> <td>Tennessee           </td> <td>37204</td> <td>-86.7907</td> <td>36.1184</td> <td>http://www.12southfarmersmarket.com                  </td> <td>12_South_Farmers_Market                                     </td> <td>@12southfrmsmkt                    </td> <td>nan    </td> <td>@12southfrmsmkt                                             </td> <td>Y      </td> <td>N   </td> <td>Y         </td> <td>Y     </td> <td>N     </td> <td>Y      </td> <td>Y   </td> <td>N      </td> <td>Y    </td> <td>Y         </td> <td>Y    </td> <td>Y   </td> <td>Y    </td> <td>Y   </td> <td>N      </td> <td>N   </td> <td>N     </td> <td>Y      </td> <td>Y       </td> <td>Y   </td> <td>N    </td> <td>N   </td> <td>Y     </td> <td>N    </td> <td>Y     </td> <td>N     </td> <td>Y     </td> <td>Y        </td> <td>Y      </td> <td>N            </td> <td>nan                                                       </td> <td>Y     </td> <td>N   </td> <td>N      </td> <td>N    </td> <td>Y   </td> <td>05/05/2015 to 10/27/2015</td> <td>Tue: 3:30 PM-6:30 PM;                       </td> <td>nan        </td> <td>nan        </td> <td>nan        </td> <td>nan        </td> <td>nan        </td> <td>nan        </td>\n",
       "        </tr>\n",
       "        <tr>\n",
       "            <td>125th Street Fresh Connect Farmers' Market      </td> <td>163 West 125th Street and Adam Clayton Powell, Jr. Blvd.</td> <td>New York  </td> <td>New York            </td> <td>New York            </td> <td>10027</td> <td>-73.9482</td> <td>40.809 </td> <td>http://www.125thStreetFarmersMarket.com              </td> <td>https://www.facebook.com/125thStreetFarmersMarket           </td> <td>https://twitter.com/FarmMarket125th</td> <td>nan    </td> <td>Instagram--> 125thStreetFarmersMarket                       </td> <td>Y      </td> <td>N   </td> <td>Y         </td> <td>Y     </td> <td>Y     </td> <td>Y      </td> <td>Y   </td> <td>N      </td> <td>Y    </td> <td>Y         </td> <td>Y    </td> <td>Y   </td> <td>Y    </td> <td>Y   </td> <td>N      </td> <td>Y   </td> <td>N     </td> <td>Y      </td> <td>Y       </td> <td>Y   </td> <td>N    </td> <td>Y   </td> <td>Y     </td> <td>N    </td> <td>Y     </td> <td>N     </td> <td>Y     </td> <td>N        </td> <td>N      </td> <td>N            </td> <td>Federal/State government building grounds                 </td> <td>Y     </td> <td>Y   </td> <td>N      </td> <td>Y    </td> <td>Y   </td> <td>06/10/2014 to 11/25/2014</td> <td>Tue: 10:00 AM-7:00 PM;                      </td> <td>nan        </td> <td>nan        </td> <td>nan        </td> <td>nan        </td> <td>nan        </td> <td>nan        </td>\n",
       "        </tr>\n",
       "        <tr>\n",
       "            <td>12th & Brandywine Urban Farm Market             </td> <td>12th & Brandywine Streets                               </td> <td>Wilmington</td> <td>New Castle          </td> <td>Delaware            </td> <td>19801</td> <td>-75.5345</td> <td>39.7421</td> <td>nan                                                  </td> <td>https://www.facebook.com/pages/12th-Brandywine-Urban-Far ...</td> <td>nan                                </td> <td>nan    </td> <td>https://www.facebook.com/delawareurbanfarmcoalition         </td> <td>N      </td> <td>N   </td> <td>N         </td> <td>N     </td> <td>N     </td> <td>N      </td> <td>N   </td> <td>N      </td> <td>Y    </td> <td>Y         </td> <td>N    </td> <td>N   </td> <td>N    </td> <td>N   </td> <td>N      </td> <td>N   </td> <td>N     </td> <td>N      </td> <td>N       </td> <td>N   </td> <td>N    </td> <td>N   </td> <td>N     </td> <td>N    </td> <td>Y     </td> <td>N     </td> <td>N     </td> <td>N        </td> <td>N      </td> <td>N            </td> <td>On a farm from: a barn, a greenhouse, a tent, a stand, etc</td> <td>N     </td> <td>N   </td> <td>N      </td> <td>N    </td> <td>Y   </td> <td>05/16/2014 to 10/17/2014</td> <td>Fri: 8:00 AM-11:00 AM;                      </td> <td>nan        </td> <td>nan        </td> <td>nan        </td> <td>nan        </td> <td>nan        </td> <td>nan        </td>\n",
       "        </tr>\n",
       "        <tr>\n",
       "            <td>14&U Farmers' Market                            </td> <td>1400 U Street NW                                        </td> <td>Washington</td> <td>District of Columbia</td> <td>District of Columbia</td> <td>20009</td> <td>-77.0321</td> <td>38.917 </td> <td>nan                                                  </td> <td>https://www.facebook.com/14UFarmersMarket                   </td> <td>https://twitter.com/14UFarmersMkt  </td> <td>nan    </td> <td>nan                                                         </td> <td>Y      </td> <td>N   </td> <td>Y         </td> <td>Y     </td> <td>N     </td> <td>Y      </td> <td>Y   </td> <td>N      </td> <td>Y    </td> <td>Y         </td> <td>Y    </td> <td>Y   </td> <td>N    </td> <td>Y   </td> <td>N      </td> <td>Y   </td> <td>Y     </td> <td>Y      </td> <td>N       </td> <td>N   </td> <td>N    </td> <td>N   </td> <td>N     </td> <td>Y    </td> <td>Y     </td> <td>Y     </td> <td>Y     </td> <td>N        </td> <td>N      </td> <td>N            </td> <td>Other                                                     </td> <td>Y     </td> <td>Y   </td> <td>Y      </td> <td>Y    </td> <td>Y   </td> <td>05/03/2014 to 11/22/2014</td> <td>Sat: 9:00 AM-1:00 PM;                       </td> <td>nan        </td> <td>nan        </td> <td>nan        </td> <td>nan        </td> <td>nan        </td> <td>nan        </td>\n",
       "        </tr>\n",
       "    </tbody>\n",
       "</table>\n",
       "<p>... (8536 rows omitted)</p>"
      ],
      "text/plain": [
       "MarketName                                       | street                                                   | city       | County               | State                | zip   | x        | y       | Website                                               | Facebook                                                     | Twitter                             | Youtube | OtherMedia                                                   | Organic | Tofu | Bakedgoods | Cheese | Crafts | Flowers | Eggs | Seafood | Herbs | Vegetables | Honey | Jams | Maple | Meat | Nursery | Nuts | Plants | Poultry | Prepared | Soap | Trees | Wine | Coffee | Beans | Fruits | Grains | Juices | Mushrooms | PetFood | WildHarvested | Location                                                   | Credit | WIC  | WICcash | SFMNP | SNAP | Season1Date              | Season1Time                                  | Season2Date | Season2Time | Season3Date | Season3Time | Season4Date | Season4Time\n",
       " Caledonia Farmers Market Association - Danville | nan                                                      | Danville   | Caledonia            | Vermont              | 05828 | -72.1403 | 44.411  | https://sites.google.com/site/caledoniafarmersmarket/ | https://www.facebook.com/Danville.VT.Farmers.Market/         | nan                                 | nan     | nan                                                          | Y       | N    | Y          | Y      | Y      | Y       | Y    | N       | Y     | Y          | Y     | Y    | Y     | Y    | N       | N    | Y      | Y       | Y        | Y    | Y     | N    | Y      | Y     | Y      | N      | Y      | N         | Y       | N             | nan                                                        | Y      | Y    | N       | Y     | N    | 06/08/2016 to 10/12/2016 | Wed: 9:00 AM-1:00 PM;                        | nan         | nan         | nan         | nan         | nan         | nan\n",
       " Stearns Homestead Farmers' Market               | 6975 Ridge Road                                          | Parma      | Cuyahoga             | Ohio                 | 44130 | -81.7286 | 41.3751 | http://Stearnshomestead.com                           | nan                                                          | nan                                 | nan     | nan                                                          | -       | N    | Y          | N      | N      | Y       | Y    | N       | Y     | Y          | Y     | Y    | Y     | Y    | N       | N    | Y      | N       | N        | N    | N     | N    | N      | N     | Y      | N      | N      | N         | Y       | N             | nan                                                        | Y      | Y    | N       | Y     | Y    | 06/25/2016 to 10/01/2016 | Sat: 9:00 AM-1:00 PM;                        | nan         | nan         | nan         | nan         | nan         | nan\n",
       "100 Mile Market                                  | 507 Harrison St                                          | Kalamazoo  | Kalamazoo            | Michigan             | 49007 | -85.5749 | 42.296  | http://www.pfcmarkets.com                             | https://www.facebook.com/100MileMarket/?fref=ts              | nan                                 | nan     | https://www.instagram.com/100milemarket/                     | N       | N    | Y          | Y      | N      | Y       | Y    | N       | Y     | Y          | Y     | Y    | Y     | Y    | N       | N    | N      | Y       | Y        | Y    | N     | Y    | N      | N     | Y      | Y      | N      | N         | N       | N             | nan                                                        | Y      | Y    | N       | Y     | Y    | 05/04/2016 to 10/12/2016 | Wed: 3:00 PM-7:00 PM;                        | nan         | nan         | nan         | nan         | nan         | nan\n",
       "106 S. Main Street Farmers Market                | 106 S. Main Street                                       | Six Mile   | nan                  | South Carolina       | 29682 | -82.8187 | 34.8042 | http://thetownofsixmile.wordpress.com/                | nan                                                          | nan                                 | nan     | nan                                                          | -       | N    | N          | N      | N      | N       | N    | N       | N     | N          | N     | N    | N     | N    | N       | N    | N      | N       | N        | N    | N     | N    | N      | N     | N      | N      | N      | N         | N       | N             | nan                                                        | Y      | N    | N       | N     | N    | nan                      | nan                                          | nan         | nan         | nan         | nan         | nan         | nan\n",
       "10th Steet Community Farmers Market              | 10th Street and Poplar                                   | Lamar      | Barton               | Missouri             | 64759 | -94.2746 | 37.4956 | nan                                                   | nan                                                          | nan                                 | nan     | http://agrimissouri.com/mo-grown/grodetail.php?type=mo-g ... | -       | N    | Y          | N      | Y      | N       | Y    | N       | Y     | Y          | Y     | Y    | N     | Y    | N       | N    | Y      | Y       | Y        | Y    | N     | N    | N      | N     | Y      | N      | N      | N         | N       | N             | nan                                                        | Y      | N    | N       | N     | N    | 04/02/2014 to 11/30/2014 | Wed: 3:00 PM-6:00 PM;Sat: 8:00 AM-1:00 PM;   | nan         | nan         | nan         | nan         | nan         | nan\n",
       "112st Madison Avenue                             | 112th Madison Avenue                                     | New York   | New York             | New York             | 10029 | -73.9493 | 40.7939 | nan                                                   | nan                                                          | nan                                 | nan     | nan                                                          | -       | N    | Y          | N      | Y      | Y       | N    | N       | Y     | Y          | Y     | Y    | N     | N    | N       | Y    | N      | N       | Y        | Y    | N     | N    | N      | N     | N      | N      | N      | N         | N       | N             | Private business parking lot                               | N      | N    | Y       | Y     | N    | July to November         | Tue:8:00 am - 5:00 pm;Sat:8:00 am - 8:00 pm; | nan         | nan         | nan         | nan         | nan         | nan\n",
       "12 South Farmers Market                          | 3000 Granny White Pike                                   | Nashville  | Davidson             | Tennessee            | 37204 | -86.7907 | 36.1184 | http://www.12southfarmersmarket.com                   | 12_South_Farmers_Market                                      | @12southfrmsmkt                     | nan     | @12southfrmsmkt                                              | Y       | N    | Y          | Y      | N      | Y       | Y    | N       | Y     | Y          | Y     | Y    | Y     | Y    | N       | N    | N      | Y       | Y        | Y    | N     | N    | Y      | N     | Y      | N      | Y      | Y         | Y       | N             | nan                                                        | Y      | N    | N       | N     | Y    | 05/05/2015 to 10/27/2015 | Tue: 3:30 PM-6:30 PM;                        | nan         | nan         | nan         | nan         | nan         | nan\n",
       "125th Street Fresh Connect Farmers' Market       | 163 West 125th Street and Adam Clayton Powell, Jr. Blvd. | New York   | New York             | New York             | 10027 | -73.9482 | 40.809  | http://www.125thStreetFarmersMarket.com               | https://www.facebook.com/125thStreetFarmersMarket            | https://twitter.com/FarmMarket125th | nan     | Instagram--> 125thStreetFarmersMarket                        | Y       | N    | Y          | Y      | Y      | Y       | Y    | N       | Y     | Y          | Y     | Y    | Y     | Y    | N       | Y    | N      | Y       | Y        | Y    | N     | Y    | Y      | N     | Y      | N      | Y      | N         | N       | N             | Federal/State government building grounds                  | Y      | Y    | N       | Y     | Y    | 06/10/2014 to 11/25/2014 | Tue: 10:00 AM-7:00 PM;                       | nan         | nan         | nan         | nan         | nan         | nan\n",
       "12th & Brandywine Urban Farm Market              | 12th & Brandywine Streets                                | Wilmington | New Castle           | Delaware             | 19801 | -75.5345 | 39.7421 | nan                                                   | https://www.facebook.com/pages/12th-Brandywine-Urban-Far ... | nan                                 | nan     | https://www.facebook.com/delawareurbanfarmcoalition          | N       | N    | N          | N      | N      | N       | N    | N       | Y     | Y          | N     | N    | N     | N    | N       | N    | N      | N       | N        | N    | N     | N    | N      | N     | Y      | N      | N      | N         | N       | N             | On a farm from: a barn, a greenhouse, a tent, a stand, etc | N      | N    | N       | N     | Y    | 05/16/2014 to 10/17/2014 | Fri: 8:00 AM-11:00 AM;                       | nan         | nan         | nan         | nan         | nan         | nan\n",
       "14&U Farmers' Market                             | 1400 U Street NW                                         | Washington | District of Columbia | District of Columbia | 20009 | -77.0321 | 38.917  | nan                                                   | https://www.facebook.com/14UFarmersMarket                    | https://twitter.com/14UFarmersMkt   | nan     | nan                                                          | Y       | N    | Y          | Y      | N      | Y       | Y    | N       | Y     | Y          | Y     | Y    | N     | Y    | N       | Y    | Y      | Y       | N        | N    | N     | N    | N      | Y     | Y      | Y      | Y      | N         | N       | N             | Other                                                      | Y      | Y    | Y       | Y     | Y    | 05/03/2014 to 11/22/2014 | Sat: 9:00 AM-1:00 PM;                        | nan         | nan         | nan         | nan         | nan         | nan\n",
       "... (8536 rows omitted)"
      ]
     },
     "execution_count": 7,
     "metadata": {},
     "output_type": "execute_result"
    }
   ],
   "source": [
    "farmers_markets_without_fmid = farmers_markets.drop(\"FMID\", \"updateTime\")\n",
    "farmers_markets_without_fmid"
   ]
  },
  {
   "cell_type": "code",
   "execution_count": null,
   "metadata": {
    "deletable": false,
    "editable": false
   },
   "outputs": [],
   "source": [
    "grader.check(\"q34\")"
   ]
  },
  {
   "cell_type": "markdown",
   "metadata": {},
   "source": [
    "Now, suppose we want to answer some questions about farmers' markets in the US. For example, which market(s) have the largest longitude (given by the `x` column)? \n",
    "\n",
    "To answer this, we'll sort `farmers_markets_locations` by longitude."
   ]
  },
  {
   "cell_type": "code",
   "execution_count": 8,
   "metadata": {},
   "outputs": [
    {
     "data": {
      "text/html": [
       "<table border=\"1\" class=\"dataframe\">\n",
       "    <thead>\n",
       "        <tr>\n",
       "            <th>MarketName</th> <th>city</th> <th>State</th> <th>y</th> <th>x</th>\n",
       "        </tr>\n",
       "    </thead>\n",
       "    <tbody>\n",
       "        <tr>\n",
       "            <td>Trapper Creek Farmers Market                  </td> <td>Trapper Creek</td> <td>Alaska</td> <td>53.8748</td> <td>-166.54 </td>\n",
       "        </tr>\n",
       "        <tr>\n",
       "            <td>Kekaha Neighborhood Center (Sunshine Markets) </td> <td>Kekaha       </td> <td>Hawaii</td> <td>21.9704</td> <td>-159.718</td>\n",
       "        </tr>\n",
       "        <tr>\n",
       "            <td>Hanapepe Park (Sunshine Markets)              </td> <td>Hanapepe     </td> <td>Hawaii</td> <td>21.9101</td> <td>-159.588</td>\n",
       "        </tr>\n",
       "        <tr>\n",
       "            <td>Kalaheo Neighborhood Center (Sunshine Markets)</td> <td>Kalaheo      </td> <td>Hawaii</td> <td>21.9251</td> <td>-159.527</td>\n",
       "        </tr>\n",
       "        <tr>\n",
       "            <td>Hawaiian Farmers of Hanalei                   </td> <td>Hanalei      </td> <td>Hawaii</td> <td>22.2033</td> <td>-159.514</td>\n",
       "        </tr>\n",
       "        <tr>\n",
       "            <td>Hanalei Saturday Farmers Market               </td> <td>Hanalei      </td> <td>Hawaii</td> <td>22.2042</td> <td>-159.492</td>\n",
       "        </tr>\n",
       "        <tr>\n",
       "            <td>Kauai Culinary Market                         </td> <td>Koloa        </td> <td>Hawaii</td> <td>21.9067</td> <td>-159.469</td>\n",
       "        </tr>\n",
       "        <tr>\n",
       "            <td>Koloa Ball Park (Knudsen) (Sunshine Markets)  </td> <td>Koloa        </td> <td>Hawaii</td> <td>21.9081</td> <td>-159.465</td>\n",
       "        </tr>\n",
       "        <tr>\n",
       "            <td>West Kauai Agricultural Association           </td> <td>Poipu        </td> <td>Hawaii</td> <td>21.8815</td> <td>-159.435</td>\n",
       "        </tr>\n",
       "        <tr>\n",
       "            <td>Kilauea Neighborhood Center (Sunshine Markets)</td> <td>Kilauea      </td> <td>Hawaii</td> <td>22.2112</td> <td>-159.406</td>\n",
       "        </tr>\n",
       "    </tbody>\n",
       "</table>\n",
       "<p>... (8536 rows omitted)</p>"
      ],
      "text/plain": [
       "MarketName                                     | city          | State  | y       | x\n",
       "Trapper Creek Farmers Market                   | Trapper Creek | Alaska | 53.8748 | -166.54\n",
       "Kekaha Neighborhood Center (Sunshine Markets)  | Kekaha        | Hawaii | 21.9704 | -159.718\n",
       "Hanapepe Park (Sunshine Markets)               | Hanapepe      | Hawaii | 21.9101 | -159.588\n",
       "Kalaheo Neighborhood Center (Sunshine Markets) | Kalaheo       | Hawaii | 21.9251 | -159.527\n",
       "Hawaiian Farmers of Hanalei                    | Hanalei       | Hawaii | 22.2033 | -159.514\n",
       "Hanalei Saturday Farmers Market                | Hanalei       | Hawaii | 22.2042 | -159.492\n",
       "Kauai Culinary Market                          | Koloa         | Hawaii | 21.9067 | -159.469\n",
       "Koloa Ball Park (Knudsen) (Sunshine Markets)   | Koloa         | Hawaii | 21.9081 | -159.465\n",
       "West Kauai Agricultural Association            | Poipu         | Hawaii | 21.8815 | -159.435\n",
       "Kilauea Neighborhood Center (Sunshine Markets) | Kilauea       | Hawaii | 22.2112 | -159.406\n",
       "... (8536 rows omitted)"
      ]
     },
     "execution_count": 8,
     "metadata": {},
     "output_type": "execute_result"
    }
   ],
   "source": [
    "farmers_markets_locations.sort('x')"
   ]
  },
  {
   "cell_type": "markdown",
   "metadata": {},
   "source": [
    "Oops, that didn't answer our question because we sorted from smallest to largest longitude. To look at the largest longitudes, we'll have to sort in reverse order."
   ]
  },
  {
   "cell_type": "code",
   "execution_count": 9,
   "metadata": {},
   "outputs": [
    {
     "data": {
      "text/html": [
       "<table border=\"1\" class=\"dataframe\">\n",
       "    <thead>\n",
       "        <tr>\n",
       "            <th>MarketName</th> <th>city</th> <th>State</th> <th>y</th> <th>x</th>\n",
       "        </tr>\n",
       "    </thead>\n",
       "    <tbody>\n",
       "        <tr>\n",
       "            <td>Christian \"Shan\" Hendricks Vegetable Market</td> <td>Saint Croix       </td> <td>Virgin Islands</td> <td>17.7449</td> <td>-64.7043</td>\n",
       "        </tr>\n",
       "        <tr>\n",
       "            <td>La Reine Farmers Market                    </td> <td>Saint Croix       </td> <td>Virgin Islands</td> <td>17.7322</td> <td>-64.7789</td>\n",
       "        </tr>\n",
       "        <tr>\n",
       "            <td>Anne Heyliger Vegetable Market             </td> <td>Saint Croix       </td> <td>Virgin Islands</td> <td>17.7099</td> <td>-64.8799</td>\n",
       "        </tr>\n",
       "        <tr>\n",
       "            <td>Rothschild Francis Vegetable Market        </td> <td>St. Thomas        </td> <td>Virgin Islands</td> <td>18.3428</td> <td>-64.9326</td>\n",
       "        </tr>\n",
       "        <tr>\n",
       "            <td>Feria Agrícola de Luquillo                 </td> <td>Luquillo          </td> <td>Puerto Rico   </td> <td>18.3782</td> <td>-65.7207</td>\n",
       "        </tr>\n",
       "        <tr>\n",
       "            <td>El Mercado Familiar                        </td> <td>San Lorenzo       </td> <td>Puerto Rico   </td> <td>18.1871</td> <td>-65.9674</td>\n",
       "        </tr>\n",
       "        <tr>\n",
       "            <td>El Mercado Familiar                        </td> <td>Gurabo            </td> <td>Puerto Rico   </td> <td>18.2526</td> <td>-65.9786</td>\n",
       "        </tr>\n",
       "        <tr>\n",
       "            <td>El Mercado Familiar                        </td> <td>Patillas          </td> <td>Puerto Rico   </td> <td>18.0069</td> <td>-66.0135</td>\n",
       "        </tr>\n",
       "        <tr>\n",
       "            <td>El Mercado Familiar                        </td> <td>Caguas zona urbana</td> <td>Puerto Rico   </td> <td>18.2324</td> <td>-66.039 </td>\n",
       "        </tr>\n",
       "        <tr>\n",
       "            <td>El Maercado Familiar                       </td> <td>Arroyo zona urbana</td> <td>Puerto Rico   </td> <td>17.9686</td> <td>-66.0617</td>\n",
       "        </tr>\n",
       "    </tbody>\n",
       "</table>\n",
       "<p>... (8536 rows omitted)</p>"
      ],
      "text/plain": [
       "MarketName                                  | city               | State          | y       | x\n",
       "Christian \"Shan\" Hendricks Vegetable Market | Saint Croix        | Virgin Islands | 17.7449 | -64.7043\n",
       "La Reine Farmers Market                     | Saint Croix        | Virgin Islands | 17.7322 | -64.7789\n",
       "Anne Heyliger Vegetable Market              | Saint Croix        | Virgin Islands | 17.7099 | -64.8799\n",
       "Rothschild Francis Vegetable Market         | St. Thomas         | Virgin Islands | 18.3428 | -64.9326\n",
       "Feria Agrícola de Luquillo                  | Luquillo           | Puerto Rico    | 18.3782 | -65.7207\n",
       "El Mercado Familiar                         | San Lorenzo        | Puerto Rico    | 18.1871 | -65.9674\n",
       "El Mercado Familiar                         | Gurabo             | Puerto Rico    | 18.2526 | -65.9786\n",
       "El Mercado Familiar                         | Patillas           | Puerto Rico    | 18.0069 | -66.0135\n",
       "El Mercado Familiar                         | Caguas zona urbana | Puerto Rico    | 18.2324 | -66.039\n",
       "El Maercado Familiar                        | Arroyo zona urbana | Puerto Rico    | 17.9686 | -66.0617\n",
       "... (8536 rows omitted)"
      ]
     },
     "execution_count": 9,
     "metadata": {},
     "output_type": "execute_result"
    }
   ],
   "source": [
    "farmers_markets_locations.sort('x', descending=True)"
   ]
  },
  {
   "cell_type": "markdown",
   "metadata": {
    "deletable": false,
    "editable": false
   },
   "source": [
    "(The `descending=True` bit is called an *optional argument*. It has a default value of `False`, so when you explicitly tell the function `descending=True`, then the function will sort in descending order.)\n",
    "\n",
    "### `sort`\n",
    "\n",
    "Some details about sort:\n",
    "\n",
    "1. The first argument to `sort` is the name of a column to sort by.\n",
    "2. If the column has text in it, `sort` will sort alphabetically; if the column has numbers, it will sort numerically.\n",
    "3. The value of `farmers_markets_locations.sort(\"x\")` is a *copy* of `farmers_markets_locations`; the `farmers_markets_locations` table doesn't get modified. For example, if we called `farmers_markets_locations.sort(\"x\")`, then running `farmers_markets_locations` by itself would still return the unsorted table.\n",
    "4. Rows always stick together when a table is sorted.  It wouldn't make sense to sort just one column and leave the other columns alone.  For example, in this case, if we sorted just the `x` column, the farmers' markets would all end up with the wrong longitudes.\n",
    "\n",
    "**Question 3.5.** Create a version of `farmers_markets_locations` that's sorted by **latitude (`y`)**, with the largest latitudes first.  Call it `farmers_markets_locations_by_latitude`.\n",
    "\n",
    "<!--\n",
    "BEGIN QUESTION\n",
    "name: q35\n",
    "-->"
   ]
  },
  {
   "cell_type": "code",
   "execution_count": 12,
   "metadata": {
    "scrolled": true
   },
   "outputs": [
    {
     "data": {
      "text/html": [
       "<table border=\"1\" class=\"dataframe\">\n",
       "    <thead>\n",
       "        <tr>\n",
       "            <th>MarketName</th> <th>city</th> <th>State</th> <th>y</th> <th>x</th>\n",
       "        </tr>\n",
       "    </thead>\n",
       "    <tbody>\n",
       "        <tr>\n",
       "            <td>Tanana Valley Farmers Market  </td> <td>Fairbanks     </td> <td>Alaska</td> <td>64.8628</td> <td>-147.781</td>\n",
       "        </tr>\n",
       "        <tr>\n",
       "            <td>Ester Community Market        </td> <td>Ester         </td> <td>Alaska</td> <td>64.8459</td> <td>-148.01 </td>\n",
       "        </tr>\n",
       "        <tr>\n",
       "            <td>Fairbanks Downtown Market     </td> <td>Fairbanks     </td> <td>Alaska</td> <td>64.8444</td> <td>-147.72 </td>\n",
       "        </tr>\n",
       "        <tr>\n",
       "            <td>Nenana Open Air Market        </td> <td>Nenana        </td> <td>Alaska</td> <td>64.5566</td> <td>-149.096</td>\n",
       "        </tr>\n",
       "        <tr>\n",
       "            <td>Highway's End Farmers' Market </td> <td>Delta Junction</td> <td>Alaska</td> <td>64.0385</td> <td>-145.733</td>\n",
       "        </tr>\n",
       "        <tr>\n",
       "            <td>MountainTraders               </td> <td>Talkeetna     </td> <td>Alaska</td> <td>62.3231</td> <td>-150.118</td>\n",
       "        </tr>\n",
       "        <tr>\n",
       "            <td>Talkeetna Farmers Market      </td> <td>Talkeetna     </td> <td>Alaska</td> <td>62.3228</td> <td>-150.118</td>\n",
       "        </tr>\n",
       "        <tr>\n",
       "            <td>Denali Farmers Market         </td> <td>Anchorage     </td> <td>Alaska</td> <td>62.3163</td> <td>-150.234</td>\n",
       "        </tr>\n",
       "        <tr>\n",
       "            <td>Kenny Lake Harvest II         </td> <td>Valdez        </td> <td>Alaska</td> <td>62.1079</td> <td>-145.476</td>\n",
       "        </tr>\n",
       "        <tr>\n",
       "            <td>Copper Valley Community Market</td> <td>Copper Valley </td> <td>Alaska</td> <td>62.0879</td> <td>-145.444</td>\n",
       "        </tr>\n",
       "    </tbody>\n",
       "</table>\n",
       "<p>... (8536 rows omitted)</p>"
      ],
      "text/plain": [
       "MarketName                     | city           | State  | y       | x\n",
       "Tanana Valley Farmers Market   | Fairbanks      | Alaska | 64.8628 | -147.781\n",
       "Ester Community Market         | Ester          | Alaska | 64.8459 | -148.01\n",
       "Fairbanks Downtown Market      | Fairbanks      | Alaska | 64.8444 | -147.72\n",
       "Nenana Open Air Market         | Nenana         | Alaska | 64.5566 | -149.096\n",
       "Highway's End Farmers' Market  | Delta Junction | Alaska | 64.0385 | -145.733\n",
       "MountainTraders                | Talkeetna      | Alaska | 62.3231 | -150.118\n",
       "Talkeetna Farmers Market       | Talkeetna      | Alaska | 62.3228 | -150.118\n",
       "Denali Farmers Market          | Anchorage      | Alaska | 62.3163 | -150.234\n",
       "Kenny Lake Harvest II          | Valdez         | Alaska | 62.1079 | -145.476\n",
       "Copper Valley Community Market | Copper Valley  | Alaska | 62.0879 | -145.444\n",
       "... (8536 rows omitted)"
      ]
     },
     "execution_count": 12,
     "metadata": {},
     "output_type": "execute_result"
    }
   ],
   "source": [
    "farmers_markets_locations_by_latitude = farmers_markets_locations.sort('y', descending=True)\n",
    "farmers_markets_locations_by_latitude"
   ]
  },
  {
   "cell_type": "code",
   "execution_count": null,
   "metadata": {
    "deletable": false,
    "editable": false
   },
   "outputs": [],
   "source": [
    "grader.check(\"q35\")"
   ]
  },
  {
   "cell_type": "markdown",
   "metadata": {},
   "source": [
    "Now let's say we want a table of all farmers' markets in Maryland. Sorting won't help us much here because Maryland is closer to the middle of the dataset.\n",
    "\n",
    "Instead, we use the table method `where`."
   ]
  },
  {
   "cell_type": "code",
   "execution_count": 16,
   "metadata": {},
   "outputs": [
    {
     "data": {
      "text/html": [
       "<table border=\"1\" class=\"dataframe\">\n",
       "    <thead>\n",
       "        <tr>\n",
       "            <th>FMID</th> <th>MarketName</th> <th>street</th> <th>city</th> <th>County</th> <th>State</th> <th>zip</th> <th>x</th> <th>y</th> <th>Website</th> <th>Facebook</th> <th>Twitter</th> <th>Youtube</th> <th>OtherMedia</th> <th>Organic</th> <th>Tofu</th> <th>Bakedgoods</th> <th>Cheese</th> <th>Crafts</th> <th>Flowers</th> <th>Eggs</th> <th>Seafood</th> <th>Herbs</th> <th>Vegetables</th> <th>Honey</th> <th>Jams</th> <th>Maple</th> <th>Meat</th> <th>Nursery</th> <th>Nuts</th> <th>Plants</th> <th>Poultry</th> <th>Prepared</th> <th>Soap</th> <th>Trees</th> <th>Wine</th> <th>Coffee</th> <th>Beans</th> <th>Fruits</th> <th>Grains</th> <th>Juices</th> <th>Mushrooms</th> <th>PetFood</th> <th>WildHarvested</th> <th>updateTime</th> <th>Location</th> <th>Credit</th> <th>WIC</th> <th>WICcash</th> <th>SFMNP</th> <th>SNAP</th> <th>Season1Date</th> <th>Season1Time</th> <th>Season2Date</th> <th>Season2Time</th> <th>Season3Date</th> <th>Season3Time</th> <th>Season4Date</th> <th>Season4Time</th>\n",
       "        </tr>\n",
       "    </thead>\n",
       "    <tbody>\n",
       "        <tr>\n",
       "            <td>1005636</td> <td>32nd Street/Waverly Farmers Market         </td> <td>E. 32nd & Barclay Street            </td> <td>Baltimore           </td> <td>Baltimore     </td> <td>Maryland</td> <td>21218</td> <td>-76.611 </td> <td>39.3272</td> <td>http://www.32ndstreetmarket.org                       </td> <td>https://www.facebook.com/pages/Baltimores-32nd-Street-Fa ...</td> <td>nan    </td> <td>nan    </td> <td>nan       </td> <td>Y      </td> <td>N   </td> <td>Y         </td> <td>Y     </td> <td>N     </td> <td>Y      </td> <td>Y   </td> <td>N      </td> <td>Y    </td> <td>Y         </td> <td>Y    </td> <td>Y   </td> <td>N    </td> <td>Y   </td> <td>N      </td> <td>Y   </td> <td>Y     </td> <td>Y      </td> <td>Y       </td> <td>N   </td> <td>N    </td> <td>N   </td> <td>N     </td> <td>N    </td> <td>Y     </td> <td>N     </td> <td>N     </td> <td>N        </td> <td>N      </td> <td>N            </td> <td>3/14/2014 1:23:50 PM </td> <td>Closed-off public street                 </td> <td>Y     </td> <td>Y   </td> <td>Y      </td> <td>Y    </td> <td>Y   </td> <td>01/01/2013 to 12/31/2013</td> <td>Sat: 7:00 AM-12:00 PM;                                      </td> <td>nan                     </td> <td>nan                    </td> <td>nan        </td> <td>nan        </td> <td>nan        </td> <td>nan        </td>\n",
       "        </tr>\n",
       "        <tr>\n",
       "            <td>1001683</td> <td>A Better Choice Bakery & Market            </td> <td>27 W Potomac Street                 </td> <td>Brunswick           </td> <td>Frederick     </td> <td>Maryland</td> <td>21716</td> <td>-77.6277</td> <td>39.3131</td> <td>nan                                                   </td> <td>https://www.facebook.com/nottinghamfarmersmarket            </td> <td>nan    </td> <td>nan    </td> <td>nan       </td> <td>Y      </td> <td>N   </td> <td>Y         </td> <td>Y     </td> <td>Y     </td> <td>N      </td> <td>Y   </td> <td>N      </td> <td>Y    </td> <td>Y         </td> <td>Y    </td> <td>Y   </td> <td>Y    </td> <td>Y   </td> <td>N      </td> <td>N   </td> <td>N     </td> <td>Y      </td> <td>Y       </td> <td>Y   </td> <td>N    </td> <td>N   </td> <td>N     </td> <td>N    </td> <td>N     </td> <td>N     </td> <td>N     </td> <td>N        </td> <td>N      </td> <td>N            </td> <td>5/3/2012 5:01:00 PM  </td> <td>Co-located with wholesale market facility</td> <td>Y     </td> <td>N   </td> <td>N      </td> <td>N    </td> <td>N   </td> <td>January to December     </td> <td>Mon:12:00 PM - 5:00 PM;Tue:12:00 PM - 5:00 PM;Wed:12:00  ...</td> <td>nan                     </td> <td>nan                    </td> <td>nan        </td> <td>nan        </td> <td>nan        </td> <td>nan        </td>\n",
       "        </tr>\n",
       "        <tr>\n",
       "            <td>1007585</td> <td>AAMC Farmers's Market                      </td> <td>2001 Medical Parkway, Sajak Pavilion</td> <td>Annapolis           </td> <td>Anne Arundel  </td> <td>Maryland</td> <td>21401</td> <td>-76.6123</td> <td>39.006 </td> <td>nan                                                   </td> <td>nan                                                         </td> <td>nan    </td> <td>nan    </td> <td>nan       </td> <td>-      </td> <td>N   </td> <td>N         </td> <td>N     </td> <td>N     </td> <td>N      </td> <td>N   </td> <td>N      </td> <td>N    </td> <td>N         </td> <td>N    </td> <td>N   </td> <td>N    </td> <td>N   </td> <td>N      </td> <td>N   </td> <td>N     </td> <td>N      </td> <td>N       </td> <td>N   </td> <td>N    </td> <td>N   </td> <td>N     </td> <td>N    </td> <td>N     </td> <td>N     </td> <td>N     </td> <td>N        </td> <td>N      </td> <td>N            </td> <td>7/23/2011 11:54:21 PM</td> <td>nan                                      </td> <td>N     </td> <td>N   </td> <td>N      </td> <td>N    </td> <td>N   </td> <td>nan                     </td> <td>nan                                                         </td> <td>nan                     </td> <td>nan                    </td> <td>nan        </td> <td>nan        </td> <td>nan        </td> <td>nan        </td>\n",
       "        </tr>\n",
       "        <tr>\n",
       "            <td>1007586</td> <td>AGH Wellness Committee Farmer's Market     </td> <td>9733 Healthway Drive                </td> <td>Berlin              </td> <td>Worcester     </td> <td>Maryland</td> <td>21811</td> <td>-75.2113</td> <td>38.3388</td> <td>nan                                                   </td> <td>nan                                                         </td> <td>nan    </td> <td>nan    </td> <td>nan       </td> <td>-      </td> <td>N   </td> <td>N         </td> <td>N     </td> <td>N     </td> <td>N      </td> <td>N   </td> <td>N      </td> <td>N    </td> <td>N         </td> <td>N    </td> <td>N   </td> <td>N    </td> <td>N   </td> <td>N      </td> <td>N   </td> <td>N     </td> <td>N      </td> <td>N       </td> <td>N   </td> <td>N    </td> <td>N   </td> <td>N     </td> <td>N    </td> <td>N     </td> <td>N     </td> <td>N     </td> <td>N        </td> <td>N      </td> <td>N            </td> <td>7/23/2011 11:58:45 PM</td> <td>nan                                      </td> <td>N     </td> <td>N   </td> <td>N      </td> <td>N    </td> <td>N   </td> <td>nan                     </td> <td>nan                                                         </td> <td>nan                     </td> <td>nan                    </td> <td>nan        </td> <td>nan        </td> <td>nan        </td> <td>nan        </td>\n",
       "        </tr>\n",
       "        <tr>\n",
       "            <td>1006800</td> <td>Annapolis FRESHFARM Market                 </td> <td>Compromise Street                   </td> <td>Annapolis           </td> <td>Anne Arundel  </td> <td>Maryland</td> <td>21401</td> <td>-76.4862</td> <td>38.9766</td> <td>http://www.freshfarmmarkets.org/markets/annapolis.html</td> <td>nan                                                         </td> <td>nan    </td> <td>nan    </td> <td>nan       </td> <td>-      </td> <td>N   </td> <td>Y         </td> <td>Y     </td> <td>N     </td> <td>Y      </td> <td>Y   </td> <td>N      </td> <td>Y    </td> <td>Y         </td> <td>Y    </td> <td>Y   </td> <td>N    </td> <td>Y   </td> <td>N      </td> <td>Y   </td> <td>N     </td> <td>Y      </td> <td>Y       </td> <td>N   </td> <td>N    </td> <td>N   </td> <td>N     </td> <td>N    </td> <td>N     </td> <td>N     </td> <td>N     </td> <td>N        </td> <td>N      </td> <td>N            </td> <td>5/2/2012 1:31:01 PM  </td> <td>Other                                    </td> <td>Y     </td> <td>Y   </td> <td>Y      </td> <td>Y    </td> <td>N   </td> <td>May to November         </td> <td>sun:8:30 AM - 12:00 PM;                                     </td> <td>nan                     </td> <td>nan                    </td> <td>nan        </td> <td>nan        </td> <td>nan        </td> <td>nan        </td>\n",
       "        </tr>\n",
       "        <tr>\n",
       "            <td>1001142</td> <td>Anne Arundel County Farmers' Market  (Riva)</td> <td>Riva Road & Harry S Truman pkwy     </td> <td>Annapolis           </td> <td>Anne Arundel  </td> <td>Maryland</td> <td>21401</td> <td>-76.5556</td> <td>38.9763</td> <td>http://www.aacofarmersmarket.com/                     </td> <td>Anne Arundel County Farmers Market, INC                     </td> <td>nan    </td> <td>nan    </td> <td>nan       </td> <td>Y      </td> <td>N   </td> <td>Y         </td> <td>Y     </td> <td>Y     </td> <td>Y      </td> <td>Y   </td> <td>Y      </td> <td>Y    </td> <td>Y         </td> <td>Y    </td> <td>Y   </td> <td>N    </td> <td>Y   </td> <td>N      </td> <td>Y   </td> <td>Y     </td> <td>Y      </td> <td>Y       </td> <td>Y   </td> <td>Y    </td> <td>Y   </td> <td>Y     </td> <td>N    </td> <td>Y     </td> <td>N     </td> <td>Y     </td> <td>Y        </td> <td>Y      </td> <td>Y            </td> <td>6/27/2016 3:25:18 PM </td> <td>nan                                      </td> <td>Y     </td> <td>Y   </td> <td>N      </td> <td>Y    </td> <td>N   </td> <td>04/02/2016 to 12/24/2016</td> <td>Sat: 7:00 AM-12:00 PM;                                      </td> <td>01/01/2016 to 12/18/2016</td> <td>Sun: 10:00 AM-2:00 PM; </td> <td>nan        </td> <td>nan        </td> <td>nan        </td> <td>nan        </td>\n",
       "        </tr>\n",
       "        <tr>\n",
       "            <td>1006519</td> <td>Baltimore County Farmers' Market           </td> <td>2200 York Road                      </td> <td>Lutherville=Timonium</td> <td>Baltimore     </td> <td>Maryland</td> <td>21093</td> <td>-76.6264</td> <td>39.4398</td> <td>http://www.baltimorecountyfarmersmarket.com           </td> <td>nan                                                         </td> <td>nan    </td> <td>nan    </td> <td>nan       </td> <td>-      </td> <td>N   </td> <td>N         </td> <td>N     </td> <td>N     </td> <td>N      </td> <td>N   </td> <td>N      </td> <td>N    </td> <td>Y         </td> <td>N    </td> <td>N   </td> <td>N    </td> <td>N   </td> <td>N      </td> <td>N   </td> <td>N     </td> <td>N      </td> <td>N       </td> <td>N   </td> <td>N    </td> <td>N   </td> <td>N     </td> <td>N    </td> <td>N     </td> <td>N     </td> <td>N     </td> <td>N        </td> <td>N      </td> <td>N            </td> <td>7/23/2011 9:37:12 PM </td> <td>Federal/State government building grounds</td> <td>N     </td> <td>Y   </td> <td>N      </td> <td>Y    </td> <td>N   </td> <td>nan                     </td> <td>nan                                                         </td> <td>nan                     </td> <td>nan                    </td> <td>nan        </td> <td>nan        </td> <td>nan        </td> <td>nan        </td>\n",
       "        </tr>\n",
       "        <tr>\n",
       "            <td>1000790</td> <td>Baltimore Farmers' Market                  </td> <td>400 unit block of Saratoga Street   </td> <td>Baltimore           </td> <td>Baltimore City</td> <td>Maryland</td> <td>21210</td> <td>-76.6215</td> <td>39.2929</td> <td>http://www.promotionandarts.org                       </td> <td>nan                                                         </td> <td>nan    </td> <td>nan    </td> <td>nan       </td> <td>Y      </td> <td>N   </td> <td>Y         </td> <td>Y     </td> <td>Y     </td> <td>Y      </td> <td>Y   </td> <td>Y      </td> <td>Y    </td> <td>Y         </td> <td>Y    </td> <td>Y   </td> <td>Y    </td> <td>Y   </td> <td>Y      </td> <td>Y   </td> <td>Y     </td> <td>Y      </td> <td>Y       </td> <td>Y   </td> <td>Y    </td> <td>N   </td> <td>N     </td> <td>N    </td> <td>N     </td> <td>N     </td> <td>N     </td> <td>N        </td> <td>N      </td> <td>N            </td> <td>5/7/2012 11:16:16 AM </td> <td>nan                                      </td> <td>Y     </td> <td>Y   </td> <td>Y      </td> <td>Y    </td> <td>Y   </td> <td>April to December       </td> <td>sun:7:00 AM - 12:00 PM;                                     </td> <td>nan                     </td> <td>nan                    </td> <td>nan        </td> <td>nan        </td> <td>nan        </td> <td>nan        </td>\n",
       "        </tr>\n",
       "        <tr>\n",
       "            <td>1012004</td> <td>Bayside Harvest Market                     </td> <td>930 Main Street                     </td> <td>Crisfield           </td> <td>Somerset      </td> <td>Maryland</td> <td>21817</td> <td>-75.8617</td> <td>37.9791</td> <td>http://somosinc.org                                   </td> <td>Bayside Harvest Market                                      </td> <td>nan    </td> <td>nan    </td> <td>nan       </td> <td>N      </td> <td>N   </td> <td>Y         </td> <td>N     </td> <td>N     </td> <td>N      </td> <td>Y   </td> <td>Y      </td> <td>Y    </td> <td>Y         </td> <td>Y    </td> <td>Y   </td> <td>N    </td> <td>N   </td> <td>N      </td> <td>N   </td> <td>Y     </td> <td>N      </td> <td>N       </td> <td>N   </td> <td>N    </td> <td>N   </td> <td>N     </td> <td>N    </td> <td>Y     </td> <td>N     </td> <td>N     </td> <td>N        </td> <td>N      </td> <td>N            </td> <td>6/9/2016 4:06:24 PM  </td> <td>nan                                      </td> <td>Y     </td> <td>N   </td> <td>N      </td> <td>N    </td> <td>Y   </td> <td>01/01/2016 to           </td> <td>nan                                                         </td> <td>nan                     </td> <td>nan                    </td> <td>nan        </td> <td>nan        </td> <td>nan        </td> <td>nan        </td>\n",
       "        </tr>\n",
       "        <tr>\n",
       "            <td>1010607</td> <td>Bel Air Farmers' Market                    </td> <td>2 South Bond Street                 </td> <td>Bel Air             </td> <td>Harford       </td> <td>Maryland</td> <td>21014</td> <td>-76.3506</td> <td>39.5353</td> <td>http://www.BelAirFarmersMarket.com                    </td> <td>BelAir Farmers Market                                       </td> <td>nan    </td> <td>nan    </td> <td>nan       </td> <td>Y      </td> <td>N   </td> <td>Y         </td> <td>Y     </td> <td>Y     </td> <td>Y      </td> <td>Y   </td> <td>N      </td> <td>Y    </td> <td>Y         </td> <td>Y    </td> <td>Y   </td> <td>N    </td> <td>Y   </td> <td>N      </td> <td>N   </td> <td>Y     </td> <td>Y      </td> <td>Y       </td> <td>Y   </td> <td>Y    </td> <td>Y   </td> <td>Y     </td> <td>N    </td> <td>Y     </td> <td>N     </td> <td>N     </td> <td>Y        </td> <td>N      </td> <td>N            </td> <td>9/25/2014 11:18:14 AM</td> <td>nan                                      </td> <td>Y     </td> <td>Y   </td> <td>Y      </td> <td>Y    </td> <td>N   </td> <td>04/12/2014 to 11/22/2014</td> <td>Sat: 7:00 AM-11:00 AM;                                      </td> <td>11/29/2014 to 12/20/2014</td> <td>Sat: 10:00 AM-12:00 PM;</td> <td>nan        </td> <td>nan        </td> <td>nan        </td> <td>nan        </td>\n",
       "        </tr>\n",
       "    </tbody>\n",
       "</table>\n",
       "<p>... (149 rows omitted)</p>"
      ],
      "text/plain": [
       "FMID    | MarketName                                  | street                               | city                 | County         | State    | zip   | x        | y       | Website                                                | Facebook                                                     | Twitter | Youtube | OtherMedia | Organic | Tofu | Bakedgoods | Cheese | Crafts | Flowers | Eggs | Seafood | Herbs | Vegetables | Honey | Jams | Maple | Meat | Nursery | Nuts | Plants | Poultry | Prepared | Soap | Trees | Wine | Coffee | Beans | Fruits | Grains | Juices | Mushrooms | PetFood | WildHarvested | updateTime            | Location                                  | Credit | WIC  | WICcash | SFMNP | SNAP | Season1Date              | Season1Time                                                  | Season2Date              | Season2Time             | Season3Date | Season3Time | Season4Date | Season4Time\n",
       "1005636 | 32nd Street/Waverly Farmers Market          | E. 32nd & Barclay Street             | Baltimore            | Baltimore      | Maryland | 21218 | -76.611  | 39.3272 | http://www.32ndstreetmarket.org                        | https://www.facebook.com/pages/Baltimores-32nd-Street-Fa ... | nan     | nan     | nan        | Y       | N    | Y          | Y      | N      | Y       | Y    | N       | Y     | Y          | Y     | Y    | N     | Y    | N       | Y    | Y      | Y       | Y        | N    | N     | N    | N      | N     | Y      | N      | N      | N         | N       | N             | 3/14/2014 1:23:50 PM  | Closed-off public street                  | Y      | Y    | Y       | Y     | Y    | 01/01/2013 to 12/31/2013 | Sat: 7:00 AM-12:00 PM;                                       | nan                      | nan                     | nan         | nan         | nan         | nan\n",
       "1001683 | A Better Choice Bakery & Market             | 27 W Potomac Street                  | Brunswick            | Frederick      | Maryland | 21716 | -77.6277 | 39.3131 | nan                                                    | https://www.facebook.com/nottinghamfarmersmarket             | nan     | nan     | nan        | Y       | N    | Y          | Y      | Y      | N       | Y    | N       | Y     | Y          | Y     | Y    | Y     | Y    | N       | N    | N      | Y       | Y        | Y    | N     | N    | N      | N     | N      | N      | N      | N         | N       | N             | 5/3/2012 5:01:00 PM   | Co-located with wholesale market facility | Y      | N    | N       | N     | N    | January to December      | Mon:12:00 PM - 5:00 PM;Tue:12:00 PM - 5:00 PM;Wed:12:00  ... | nan                      | nan                     | nan         | nan         | nan         | nan\n",
       "1007585 | AAMC Farmers's Market                       | 2001 Medical Parkway, Sajak Pavilion | Annapolis            | Anne Arundel   | Maryland | 21401 | -76.6123 | 39.006  | nan                                                    | nan                                                          | nan     | nan     | nan        | -       | N    | N          | N      | N      | N       | N    | N       | N     | N          | N     | N    | N     | N    | N       | N    | N      | N       | N        | N    | N     | N    | N      | N     | N      | N      | N      | N         | N       | N             | 7/23/2011 11:54:21 PM | nan                                       | N      | N    | N       | N     | N    | nan                      | nan                                                          | nan                      | nan                     | nan         | nan         | nan         | nan\n",
       "1007586 | AGH Wellness Committee Farmer's Market      | 9733 Healthway Drive                 | Berlin               | Worcester      | Maryland | 21811 | -75.2113 | 38.3388 | nan                                                    | nan                                                          | nan     | nan     | nan        | -       | N    | N          | N      | N      | N       | N    | N       | N     | N          | N     | N    | N     | N    | N       | N    | N      | N       | N        | N    | N     | N    | N      | N     | N      | N      | N      | N         | N       | N             | 7/23/2011 11:58:45 PM | nan                                       | N      | N    | N       | N     | N    | nan                      | nan                                                          | nan                      | nan                     | nan         | nan         | nan         | nan\n",
       "1006800 | Annapolis FRESHFARM Market                  | Compromise Street                    | Annapolis            | Anne Arundel   | Maryland | 21401 | -76.4862 | 38.9766 | http://www.freshfarmmarkets.org/markets/annapolis.html | nan                                                          | nan     | nan     | nan        | -       | N    | Y          | Y      | N      | Y       | Y    | N       | Y     | Y          | Y     | Y    | N     | Y    | N       | Y    | N      | Y       | Y        | N    | N     | N    | N      | N     | N      | N      | N      | N         | N       | N             | 5/2/2012 1:31:01 PM   | Other                                     | Y      | Y    | Y       | Y     | N    | May to November          | sun:8:30 AM - 12:00 PM;                                      | nan                      | nan                     | nan         | nan         | nan         | nan\n",
       "1001142 | Anne Arundel County Farmers' Market  (Riva) | Riva Road & Harry S Truman pkwy      | Annapolis            | Anne Arundel   | Maryland | 21401 | -76.5556 | 38.9763 | http://www.aacofarmersmarket.com/                      | Anne Arundel County Farmers Market, INC                      | nan     | nan     | nan        | Y       | N    | Y          | Y      | Y      | Y       | Y    | Y       | Y     | Y          | Y     | Y    | N     | Y    | N       | Y    | Y      | Y       | Y        | Y    | Y     | Y    | Y      | N     | Y      | N      | Y      | Y         | Y       | Y             | 6/27/2016 3:25:18 PM  | nan                                       | Y      | Y    | N       | Y     | N    | 04/02/2016 to 12/24/2016 | Sat: 7:00 AM-12:00 PM;                                       | 01/01/2016 to 12/18/2016 | Sun: 10:00 AM-2:00 PM;  | nan         | nan         | nan         | nan\n",
       "1006519 | Baltimore County Farmers' Market            | 2200 York Road                       | Lutherville=Timonium | Baltimore      | Maryland | 21093 | -76.6264 | 39.4398 | http://www.baltimorecountyfarmersmarket.com            | nan                                                          | nan     | nan     | nan        | -       | N    | N          | N      | N      | N       | N    | N       | N     | Y          | N     | N    | N     | N    | N       | N    | N      | N       | N        | N    | N     | N    | N      | N     | N      | N      | N      | N         | N       | N             | 7/23/2011 9:37:12 PM  | Federal/State government building grounds | N      | Y    | N       | Y     | N    | nan                      | nan                                                          | nan                      | nan                     | nan         | nan         | nan         | nan\n",
       "1000790 | Baltimore Farmers' Market                   | 400 unit block of Saratoga Street    | Baltimore            | Baltimore City | Maryland | 21210 | -76.6215 | 39.2929 | http://www.promotionandarts.org                        | nan                                                          | nan     | nan     | nan        | Y       | N    | Y          | Y      | Y      | Y       | Y    | Y       | Y     | Y          | Y     | Y    | Y     | Y    | Y       | Y    | Y      | Y       | Y        | Y    | Y     | N    | N      | N     | N      | N      | N      | N         | N       | N             | 5/7/2012 11:16:16 AM  | nan                                       | Y      | Y    | Y       | Y     | Y    | April to December        | sun:7:00 AM - 12:00 PM;                                      | nan                      | nan                     | nan         | nan         | nan         | nan\n",
       "1012004 | Bayside Harvest Market                      | 930 Main Street                      | Crisfield            | Somerset       | Maryland | 21817 | -75.8617 | 37.9791 | http://somosinc.org                                    | Bayside Harvest Market                                       | nan     | nan     | nan        | N       | N    | Y          | N      | N      | N       | Y    | Y       | Y     | Y          | Y     | Y    | N     | N    | N       | N    | Y      | N       | N        | N    | N     | N    | N      | N     | Y      | N      | N      | N         | N       | N             | 6/9/2016 4:06:24 PM   | nan                                       | Y      | N    | N       | N     | Y    | 01/01/2016 to            | nan                                                          | nan                      | nan                     | nan         | nan         | nan         | nan\n",
       "1010607 | Bel Air Farmers' Market                     | 2 South Bond Street                  | Bel Air              | Harford        | Maryland | 21014 | -76.3506 | 39.5353 | http://www.BelAirFarmersMarket.com                     | BelAir Farmers Market                                        | nan     | nan     | nan        | Y       | N    | Y          | Y      | Y      | Y       | Y    | N       | Y     | Y          | Y     | Y    | N     | Y    | N       | N    | Y      | Y       | Y        | Y    | Y     | Y    | Y      | N     | Y      | N      | N      | Y         | N       | N             | 9/25/2014 11:18:14 AM | nan                                       | Y      | Y    | Y       | Y     | N    | 04/12/2014 to 11/22/2014 | Sat: 7:00 AM-11:00 AM;                                       | 11/29/2014 to 12/20/2014 | Sat: 10:00 AM-12:00 PM; | nan         | nan         | nan         | nan\n",
       "... (149 rows omitted)"
      ]
     },
     "execution_count": 16,
     "metadata": {},
     "output_type": "execute_result"
    }
   ],
   "source": [
    "maryland_farmers_markets = farmers_markets.where('State', 'Maryland')\n",
    "maryland_farmers_markets"
   ]
  },
  {
   "cell_type": "markdown",
   "metadata": {},
   "source": [
    "Ignore the syntax for the moment.  Instead, try to read that line like this:\n",
    "\n",
    "> Assign the name **`maryland_farmers_markets`** to a table whose rows are the rows in the **`farmers_markets_locations`** table **`where`** the **`'State'`**s **`are` `equal` `to` `Maryland`**."
   ]
  },
  {
   "cell_type": "markdown",
   "metadata": {},
   "source": [
    "### `where`\n",
    "\n",
    "Now let's dive into the details a bit more.  `where` takes 2 arguments:\n",
    "\n",
    "1. The name of a column.  `where` finds rows where that column's values meet some criterion.\n",
    "2. A predicate that describes the criterion that the column needs to meet.\n",
    "\n",
    "The predicate in the example above called the function `are.equal_to` with the value we wanted, 'California'.  We'll see other predicates soon.\n",
    "\n",
    "`where` returns a table that's a copy of the original table, but **with only the rows that meet the given predicate**."
   ]
  },
  {
   "cell_type": "markdown",
   "metadata": {},
   "source": [
    "**Question 3.6.** Use `maryland_farmers_markets` to create a table called `maryland_markets` containing farmers' markets in Baltimore, Maryland. (Note: Baltimore county, not Baltimore City) \n",
    "<!--\n",
    "BEGIN QUESTION\n",
    "name: q36\n",
    "-->"
   ]
  },
  {
   "cell_type": "code",
   "execution_count": 17,
   "metadata": {},
   "outputs": [
    {
     "data": {
      "text/html": [
       "<table border=\"1\" class=\"dataframe\">\n",
       "    <thead>\n",
       "        <tr>\n",
       "            <th>FMID</th> <th>MarketName</th> <th>street</th> <th>city</th> <th>County</th> <th>State</th> <th>zip</th> <th>x</th> <th>y</th> <th>Website</th> <th>Facebook</th> <th>Twitter</th> <th>Youtube</th> <th>OtherMedia</th> <th>Organic</th> <th>Tofu</th> <th>Bakedgoods</th> <th>Cheese</th> <th>Crafts</th> <th>Flowers</th> <th>Eggs</th> <th>Seafood</th> <th>Herbs</th> <th>Vegetables</th> <th>Honey</th> <th>Jams</th> <th>Maple</th> <th>Meat</th> <th>Nursery</th> <th>Nuts</th> <th>Plants</th> <th>Poultry</th> <th>Prepared</th> <th>Soap</th> <th>Trees</th> <th>Wine</th> <th>Coffee</th> <th>Beans</th> <th>Fruits</th> <th>Grains</th> <th>Juices</th> <th>Mushrooms</th> <th>PetFood</th> <th>WildHarvested</th> <th>updateTime</th> <th>Location</th> <th>Credit</th> <th>WIC</th> <th>WICcash</th> <th>SFMNP</th> <th>SNAP</th> <th>Season1Date</th> <th>Season1Time</th> <th>Season2Date</th> <th>Season2Time</th> <th>Season3Date</th> <th>Season3Time</th> <th>Season4Date</th> <th>Season4Time</th>\n",
       "        </tr>\n",
       "    </thead>\n",
       "    <tbody>\n",
       "        <tr>\n",
       "            <td>1005636</td> <td>32nd Street/Waverly Farmers Market          </td> <td>E. 32nd & Barclay Street</td> <td>Baltimore           </td> <td>Baltimore</td> <td>Maryland</td> <td>21218</td> <td>-76.611 </td> <td>39.3272</td> <td>http://www.32ndstreetmarket.org            </td> <td>https://www.facebook.com/pages/Baltimores-32nd-Street-Fa ...</td> <td>nan    </td> <td>nan    </td> <td>nan       </td> <td>Y      </td> <td>N   </td> <td>Y         </td> <td>Y     </td> <td>N     </td> <td>Y      </td> <td>Y   </td> <td>N      </td> <td>Y    </td> <td>Y         </td> <td>Y    </td> <td>Y   </td> <td>N    </td> <td>Y   </td> <td>N      </td> <td>Y   </td> <td>Y     </td> <td>Y      </td> <td>Y       </td> <td>N   </td> <td>N    </td> <td>N   </td> <td>N     </td> <td>N    </td> <td>Y     </td> <td>N     </td> <td>N     </td> <td>N        </td> <td>N      </td> <td>N            </td> <td>3/14/2014 1:23:50 PM </td> <td>Closed-off public street                 </td> <td>Y     </td> <td>Y   </td> <td>Y      </td> <td>Y    </td> <td>Y   </td> <td>01/01/2013 to 12/31/2013</td> <td>Sat: 7:00 AM-12:00 PM; </td> <td>nan        </td> <td>nan        </td> <td>nan        </td> <td>nan        </td> <td>nan        </td> <td>nan        </td>\n",
       "        </tr>\n",
       "        <tr>\n",
       "            <td>1006519</td> <td>Baltimore County Farmers' Market            </td> <td>2200 York Road          </td> <td>Lutherville=Timonium</td> <td>Baltimore</td> <td>Maryland</td> <td>21093</td> <td>-76.6264</td> <td>39.4398</td> <td>http://www.baltimorecountyfarmersmarket.com</td> <td>nan                                                         </td> <td>nan    </td> <td>nan    </td> <td>nan       </td> <td>-      </td> <td>N   </td> <td>N         </td> <td>N     </td> <td>N     </td> <td>N      </td> <td>N   </td> <td>N      </td> <td>N    </td> <td>Y         </td> <td>N    </td> <td>N   </td> <td>N    </td> <td>N   </td> <td>N      </td> <td>N   </td> <td>N     </td> <td>N      </td> <td>N       </td> <td>N   </td> <td>N    </td> <td>N   </td> <td>N     </td> <td>N    </td> <td>N     </td> <td>N     </td> <td>N     </td> <td>N        </td> <td>N      </td> <td>N            </td> <td>7/23/2011 9:37:12 PM </td> <td>Federal/State government building grounds</td> <td>N     </td> <td>Y   </td> <td>N      </td> <td>Y    </td> <td>N   </td> <td>nan                     </td> <td>nan                    </td> <td>nan        </td> <td>nan        </td> <td>nan        </td> <td>nan        </td> <td>nan        </td> <td>nan        </td>\n",
       "        </tr>\n",
       "        <tr>\n",
       "            <td>1000953</td> <td>Boordy Vineyards-Good Life Thursdays        </td> <td>12820 Long Green Pike   </td> <td>Hydes               </td> <td>Baltimore</td> <td>Maryland</td> <td>21082</td> <td>-76.4881</td> <td>39.4754</td> <td>http://www.boordy.com                      </td> <td>nan                                                         </td> <td>nan    </td> <td>nan    </td> <td>nan       </td> <td>-      </td> <td>N   </td> <td>Y         </td> <td>N     </td> <td>N     </td> <td>N      </td> <td>N   </td> <td>N      </td> <td>N    </td> <td>Y         </td> <td>N    </td> <td>Y   </td> <td>N    </td> <td>N   </td> <td>N      </td> <td>N   </td> <td>Y     </td> <td>N      </td> <td>N       </td> <td>N   </td> <td>N    </td> <td>N   </td> <td>N     </td> <td>N    </td> <td>N     </td> <td>N     </td> <td>N     </td> <td>N        </td> <td>N      </td> <td>N            </td> <td>7/24/2011 9:40:38 AM </td> <td>nan                                      </td> <td>N     </td> <td>Y   </td> <td>N      </td> <td>Y    </td> <td>N   </td> <td>nan                     </td> <td>nan                    </td> <td>nan        </td> <td>nan        </td> <td>nan        </td> <td>nan        </td> <td>nan        </td> <td>nan        </td>\n",
       "        </tr>\n",
       "        <tr>\n",
       "            <td>1003681</td> <td>Catonsville Farmers Market                  </td> <td>5820 Edmondson Ave      </td> <td>Catonsville         </td> <td>Baltimore</td> <td>Maryland</td> <td>21228</td> <td>-76.7167</td> <td>39.2807</td> <td>http://www.catonsvillefarmersmarket.com    </td> <td>https://www.facebook.com/catonsvillefarmersmarket           </td> <td>nan    </td> <td>nan    </td> <td>nan       </td> <td>N      </td> <td>N   </td> <td>Y         </td> <td>Y     </td> <td>N     </td> <td>Y      </td> <td>Y   </td> <td>N      </td> <td>Y    </td> <td>Y         </td> <td>Y    </td> <td>Y   </td> <td>Y    </td> <td>Y   </td> <td>N      </td> <td>N   </td> <td>Y     </td> <td>Y      </td> <td>Y       </td> <td>Y   </td> <td>N    </td> <td>Y   </td> <td>Y     </td> <td>N    </td> <td>Y     </td> <td>N     </td> <td>N     </td> <td>Y        </td> <td>N      </td> <td>N            </td> <td>5/29/2016 2:27:41 PM </td> <td>nan                                      </td> <td>Y     </td> <td>Y   </td> <td>Y      </td> <td>Y    </td> <td>Y   </td> <td>05/04/2016 to 11/30/2016</td> <td>Wed: 10:00 AM-1:00 PM; </td> <td>nan        </td> <td>nan        </td> <td>nan        </td> <td>nan        </td> <td>nan        </td> <td>nan        </td>\n",
       "        </tr>\n",
       "        <tr>\n",
       "            <td>1002643</td> <td>Catonsville Sunday Farmers Market           </td> <td>730 Frederick Road      </td> <td>Catonsville         </td> <td>Baltimore</td> <td>Maryland</td> <td>21228</td> <td>-76.7329</td> <td>39.2723</td> <td>nan                                        </td> <td>http://www.facebook.com/pages/Lapeer-Farmers-Market/4012 ...</td> <td>nan    </td> <td>nan    </td> <td>nan       </td> <td>-      </td> <td>N   </td> <td>Y         </td> <td>Y     </td> <td>N     </td> <td>N      </td> <td>Y   </td> <td>N      </td> <td>Y    </td> <td>Y         </td> <td>N    </td> <td>N   </td> <td>N    </td> <td>Y   </td> <td>Y      </td> <td>N   </td> <td>Y     </td> <td>Y      </td> <td>Y       </td> <td>N   </td> <td>N    </td> <td>N   </td> <td>N     </td> <td>N    </td> <td>N     </td> <td>N     </td> <td>N     </td> <td>N        </td> <td>N      </td> <td>N            </td> <td>5/16/2012 5:22:20 PM </td> <td>Private business parking lot             </td> <td>Y     </td> <td>Y   </td> <td>Y      </td> <td>Y    </td> <td>N   </td> <td>May to November         </td> <td>sun:10:00 AM - 1:30 PM;</td> <td>nan        </td> <td>nan        </td> <td>nan        </td> <td>nan        </td> <td>nan        </td> <td>nan        </td>\n",
       "        </tr>\n",
       "        <tr>\n",
       "            <td>1002808</td> <td>CMS Farmers Market                          </td> <td>7500 Security Blvd.     </td> <td>Woodlawn            </td> <td>Baltimore</td> <td>Maryland</td> <td>21244</td> <td>-76.7644</td> <td>39.3161</td> <td>nan                                        </td> <td>nan                                                         </td> <td>nan    </td> <td>nan    </td> <td>nan       </td> <td>N      </td> <td>N   </td> <td>Y         </td> <td>N     </td> <td>N     </td> <td>Y      </td> <td>N   </td> <td>N      </td> <td>Y    </td> <td>Y         </td> <td>Y    </td> <td>Y   </td> <td>N    </td> <td>N   </td> <td>N      </td> <td>Y   </td> <td>N     </td> <td>N      </td> <td>Y       </td> <td>N   </td> <td>N    </td> <td>N   </td> <td>N     </td> <td>N    </td> <td>Y     </td> <td>N     </td> <td>N     </td> <td>N        </td> <td>N      </td> <td>N            </td> <td>3/19/2015 11:27:47 AM</td> <td>nan                                      </td> <td>Y     </td> <td>N   </td> <td>N      </td> <td>N    </td> <td>N   </td> <td>06/04/2015 to 09/24/2015</td> <td>Thu: 10:30 AM-1:30 PM; </td> <td>nan        </td> <td>nan        </td> <td>nan        </td> <td>nan        </td> <td>nan        </td> <td>nan        </td>\n",
       "        </tr>\n",
       "        <tr>\n",
       "            <td>1006998</td> <td>Dundalk Farmers' Market                     </td> <td>nan                     </td> <td>Dundalk             </td> <td>Baltimore</td> <td>Maryland</td> <td>21222</td> <td>-76.5205</td> <td>39.2507</td> <td>nan                                        </td> <td>nan                                                         </td> <td>nan    </td> <td>nan    </td> <td>nan       </td> <td>-      </td> <td>N   </td> <td>N         </td> <td>N     </td> <td>N     </td> <td>N      </td> <td>N   </td> <td>N      </td> <td>N    </td> <td>Y         </td> <td>N    </td> <td>N   </td> <td>N    </td> <td>N   </td> <td>N      </td> <td>N   </td> <td>N     </td> <td>N      </td> <td>N       </td> <td>N   </td> <td>N    </td> <td>N   </td> <td>N     </td> <td>N    </td> <td>N     </td> <td>N     </td> <td>N     </td> <td>N        </td> <td>N      </td> <td>N            </td> <td>8/8/2011 4:12:14 PM  </td> <td>Private business parking lot             </td> <td>N     </td> <td>Y   </td> <td>N      </td> <td>Y    </td> <td>N   </td> <td>nan                     </td> <td>nan                    </td> <td>nan        </td> <td>nan        </td> <td>nan        </td> <td>nan        </td> <td>nan        </td> <td>nan        </td>\n",
       "        </tr>\n",
       "        <tr>\n",
       "            <td>1006929</td> <td>Eastpoint Farmers' Market                   </td> <td>7839 Eastern Avenue     </td> <td>Baltimore           </td> <td>Baltimore</td> <td>Maryland</td> <td>21224</td> <td>-76.8155</td> <td>39.0659</td> <td>nan                                        </td> <td>nan                                                         </td> <td>nan    </td> <td>nan    </td> <td>nan       </td> <td>N      </td> <td>N   </td> <td>Y         </td> <td>N     </td> <td>N     </td> <td>N      </td> <td>Y   </td> <td>N      </td> <td>Y    </td> <td>Y         </td> <td>Y    </td> <td>N   </td> <td>N    </td> <td>N   </td> <td>N      </td> <td>N   </td> <td>Y     </td> <td>Y      </td> <td>N       </td> <td>N   </td> <td>N    </td> <td>N   </td> <td>N     </td> <td>N    </td> <td>Y     </td> <td>N     </td> <td>N     </td> <td>N        </td> <td>N      </td> <td>N            </td> <td>6/18/2013 8:55:32 AM </td> <td>Private business parking lot             </td> <td>N     </td> <td>Y   </td> <td>N      </td> <td>Y    </td> <td>N   </td> <td>06/26/2013 to 10/30/2013</td> <td>Wed: 10:00 AM-2:00 PM; </td> <td>nan        </td> <td>nan        </td> <td>nan        </td> <td>nan        </td> <td>nan        </td> <td>nan        </td>\n",
       "        </tr>\n",
       "        <tr>\n",
       "            <td>1004476</td> <td>Farmers' Market at The Avenue ( White Marsh)</td> <td>8125 Honeygo Blvd.      </td> <td>Nottingham          </td> <td>Baltimore</td> <td>Maryland</td> <td>21236</td> <td>-76.4677</td> <td>39.3705</td> <td>http://www.theavenueatwhitemarsh.com       </td> <td>nan                                                         </td> <td>nan    </td> <td>nan    </td> <td>nan       </td> <td>-      </td> <td>N   </td> <td>Y         </td> <td>N     </td> <td>N     </td> <td>N      </td> <td>Y   </td> <td>N      </td> <td>N    </td> <td>Y         </td> <td>Y    </td> <td>N   </td> <td>N    </td> <td>N   </td> <td>Y      </td> <td>N   </td> <td>Y     </td> <td>N      </td> <td>N       </td> <td>N   </td> <td>N    </td> <td>N   </td> <td>N     </td> <td>N    </td> <td>N     </td> <td>N     </td> <td>N     </td> <td>N        </td> <td>N      </td> <td>N            </td> <td>5/31/2012 12:25:32 PM</td> <td>nan                                      </td> <td>N     </td> <td>Y   </td> <td>Y      </td> <td>N    </td> <td>N   </td> <td>July to October         </td> <td>Fri:10:00 AM - 1:00 PM;</td> <td>nan        </td> <td>nan        </td> <td>nan        </td> <td>nan        </td> <td>nan        </td> <td>nan        </td>\n",
       "        </tr>\n",
       "        <tr>\n",
       "            <td>1002274</td> <td>Green Spring Station Farmers Market         </td> <td>10751 Falls Road        </td> <td>Baltimore           </td> <td>Baltimore</td> <td>Maryland</td> <td>21212</td> <td>-76.6689</td> <td>39.4208</td> <td>nan                                        </td> <td>nan                                                         </td> <td>nan    </td> <td>nan    </td> <td>nan       </td> <td>N      </td> <td>N   </td> <td>Y         </td> <td>N     </td> <td>N     </td> <td>Y      </td> <td>Y   </td> <td>N      </td> <td>Y    </td> <td>Y         </td> <td>Y    </td> <td>Y   </td> <td>N    </td> <td>Y   </td> <td>N      </td> <td>N   </td> <td>Y     </td> <td>Y      </td> <td>Y       </td> <td>N   </td> <td>N    </td> <td>N   </td> <td>N     </td> <td>N    </td> <td>Y     </td> <td>N     </td> <td>N     </td> <td>N        </td> <td>N      </td> <td>N            </td> <td>3/21/2014 5:45:41 PM </td> <td>Private business parking lot             </td> <td>Y     </td> <td>Y   </td> <td>Y      </td> <td>Y    </td> <td>N   </td> <td>05/25/2013 to 11/16/2013</td> <td>Sat: 9:00 AM-12:00 PM; </td> <td>nan        </td> <td>nan        </td> <td>nan        </td> <td>nan        </td> <td>nan        </td> <td>nan        </td>\n",
       "        </tr>\n",
       "    </tbody>\n",
       "</table>\n",
       "<p>... (7 rows omitted)</p>"
      ],
      "text/plain": [
       "FMID    | MarketName                                   | street                   | city                 | County    | State    | zip   | x        | y       | Website                                     | Facebook                                                     | Twitter | Youtube | OtherMedia | Organic | Tofu | Bakedgoods | Cheese | Crafts | Flowers | Eggs | Seafood | Herbs | Vegetables | Honey | Jams | Maple | Meat | Nursery | Nuts | Plants | Poultry | Prepared | Soap | Trees | Wine | Coffee | Beans | Fruits | Grains | Juices | Mushrooms | PetFood | WildHarvested | updateTime            | Location                                  | Credit | WIC  | WICcash | SFMNP | SNAP | Season1Date              | Season1Time             | Season2Date | Season2Time | Season3Date | Season3Time | Season4Date | Season4Time\n",
       "1005636 | 32nd Street/Waverly Farmers Market           | E. 32nd & Barclay Street | Baltimore            | Baltimore | Maryland | 21218 | -76.611  | 39.3272 | http://www.32ndstreetmarket.org             | https://www.facebook.com/pages/Baltimores-32nd-Street-Fa ... | nan     | nan     | nan        | Y       | N    | Y          | Y      | N      | Y       | Y    | N       | Y     | Y          | Y     | Y    | N     | Y    | N       | Y    | Y      | Y       | Y        | N    | N     | N    | N      | N     | Y      | N      | N      | N         | N       | N             | 3/14/2014 1:23:50 PM  | Closed-off public street                  | Y      | Y    | Y       | Y     | Y    | 01/01/2013 to 12/31/2013 | Sat: 7:00 AM-12:00 PM;  | nan         | nan         | nan         | nan         | nan         | nan\n",
       "1006519 | Baltimore County Farmers' Market             | 2200 York Road           | Lutherville=Timonium | Baltimore | Maryland | 21093 | -76.6264 | 39.4398 | http://www.baltimorecountyfarmersmarket.com | nan                                                          | nan     | nan     | nan        | -       | N    | N          | N      | N      | N       | N    | N       | N     | Y          | N     | N    | N     | N    | N       | N    | N      | N       | N        | N    | N     | N    | N      | N     | N      | N      | N      | N         | N       | N             | 7/23/2011 9:37:12 PM  | Federal/State government building grounds | N      | Y    | N       | Y     | N    | nan                      | nan                     | nan         | nan         | nan         | nan         | nan         | nan\n",
       "1000953 | Boordy Vineyards-Good Life Thursdays         | 12820 Long Green Pike    | Hydes                | Baltimore | Maryland | 21082 | -76.4881 | 39.4754 | http://www.boordy.com                       | nan                                                          | nan     | nan     | nan        | -       | N    | Y          | N      | N      | N       | N    | N       | N     | Y          | N     | Y    | N     | N    | N       | N    | Y      | N       | N        | N    | N     | N    | N      | N     | N      | N      | N      | N         | N       | N             | 7/24/2011 9:40:38 AM  | nan                                       | N      | Y    | N       | Y     | N    | nan                      | nan                     | nan         | nan         | nan         | nan         | nan         | nan\n",
       "1003681 | Catonsville Farmers Market                   | 5820 Edmondson Ave       | Catonsville          | Baltimore | Maryland | 21228 | -76.7167 | 39.2807 | http://www.catonsvillefarmersmarket.com     | https://www.facebook.com/catonsvillefarmersmarket            | nan     | nan     | nan        | N       | N    | Y          | Y      | N      | Y       | Y    | N       | Y     | Y          | Y     | Y    | Y     | Y    | N       | N    | Y      | Y       | Y        | Y    | N     | Y    | Y      | N     | Y      | N      | N      | Y         | N       | N             | 5/29/2016 2:27:41 PM  | nan                                       | Y      | Y    | Y       | Y     | Y    | 05/04/2016 to 11/30/2016 | Wed: 10:00 AM-1:00 PM;  | nan         | nan         | nan         | nan         | nan         | nan\n",
       "1002643 | Catonsville Sunday Farmers Market            | 730 Frederick Road       | Catonsville          | Baltimore | Maryland | 21228 | -76.7329 | 39.2723 | nan                                         | http://www.facebook.com/pages/Lapeer-Farmers-Market/4012 ... | nan     | nan     | nan        | -       | N    | Y          | Y      | N      | N       | Y    | N       | Y     | Y          | N     | N    | N     | Y    | Y       | N    | Y      | Y       | Y        | N    | N     | N    | N      | N     | N      | N      | N      | N         | N       | N             | 5/16/2012 5:22:20 PM  | Private business parking lot              | Y      | Y    | Y       | Y     | N    | May to November          | sun:10:00 AM - 1:30 PM; | nan         | nan         | nan         | nan         | nan         | nan\n",
       "1002808 | CMS Farmers Market                           | 7500 Security Blvd.      | Woodlawn             | Baltimore | Maryland | 21244 | -76.7644 | 39.3161 | nan                                         | nan                                                          | nan     | nan     | nan        | N       | N    | Y          | N      | N      | Y       | N    | N       | Y     | Y          | Y     | Y    | N     | N    | N       | Y    | N      | N       | Y        | N    | N     | N    | N      | N     | Y      | N      | N      | N         | N       | N             | 3/19/2015 11:27:47 AM | nan                                       | Y      | N    | N       | N     | N    | 06/04/2015 to 09/24/2015 | Thu: 10:30 AM-1:30 PM;  | nan         | nan         | nan         | nan         | nan         | nan\n",
       "1006998 | Dundalk Farmers' Market                      | nan                      | Dundalk              | Baltimore | Maryland | 21222 | -76.5205 | 39.2507 | nan                                         | nan                                                          | nan     | nan     | nan        | -       | N    | N          | N      | N      | N       | N    | N       | N     | Y          | N     | N    | N     | N    | N       | N    | N      | N       | N        | N    | N     | N    | N      | N     | N      | N      | N      | N         | N       | N             | 8/8/2011 4:12:14 PM   | Private business parking lot              | N      | Y    | N       | Y     | N    | nan                      | nan                     | nan         | nan         | nan         | nan         | nan         | nan\n",
       "1006929 | Eastpoint Farmers' Market                    | 7839 Eastern Avenue      | Baltimore            | Baltimore | Maryland | 21224 | -76.8155 | 39.0659 | nan                                         | nan                                                          | nan     | nan     | nan        | N       | N    | Y          | N      | N      | N       | Y    | N       | Y     | Y          | Y     | N    | N     | N    | N       | N    | Y      | Y       | N        | N    | N     | N    | N      | N     | Y      | N      | N      | N         | N       | N             | 6/18/2013 8:55:32 AM  | Private business parking lot              | N      | Y    | N       | Y     | N    | 06/26/2013 to 10/30/2013 | Wed: 10:00 AM-2:00 PM;  | nan         | nan         | nan         | nan         | nan         | nan\n",
       "1004476 | Farmers' Market at The Avenue ( White Marsh) | 8125 Honeygo Blvd.       | Nottingham           | Baltimore | Maryland | 21236 | -76.4677 | 39.3705 | http://www.theavenueatwhitemarsh.com        | nan                                                          | nan     | nan     | nan        | -       | N    | Y          | N      | N      | N       | Y    | N       | N     | Y          | Y     | N    | N     | N    | Y       | N    | Y      | N       | N        | N    | N     | N    | N      | N     | N      | N      | N      | N         | N       | N             | 5/31/2012 12:25:32 PM | nan                                       | N      | Y    | Y       | N     | N    | July to October          | Fri:10:00 AM - 1:00 PM; | nan         | nan         | nan         | nan         | nan         | nan\n",
       "1002274 | Green Spring Station Farmers Market          | 10751 Falls Road         | Baltimore            | Baltimore | Maryland | 21212 | -76.6689 | 39.4208 | nan                                         | nan                                                          | nan     | nan     | nan        | N       | N    | Y          | N      | N      | Y       | Y    | N       | Y     | Y          | Y     | Y    | N     | Y    | N       | N    | Y      | Y       | Y        | N    | N     | N    | N      | N     | Y      | N      | N      | N         | N       | N             | 3/21/2014 5:45:41 PM  | Private business parking lot              | Y      | Y    | Y       | Y     | N    | 05/25/2013 to 11/16/2013 | Sat: 9:00 AM-12:00 PM;  | nan         | nan         | nan         | nan         | nan         | nan\n",
       "... (7 rows omitted)"
      ]
     },
     "execution_count": 17,
     "metadata": {},
     "output_type": "execute_result"
    }
   ],
   "source": [
    "baltimore_markets = maryland_farmers_markets.where('County', are.equal_to(\"Baltimore\"))\n",
    "baltimore_markets"
   ]
  },
  {
   "cell_type": "code",
   "execution_count": null,
   "metadata": {
    "deletable": false,
    "editable": false
   },
   "outputs": [],
   "source": [
    "grader.check(\"q36\")"
   ]
  },
  {
   "cell_type": "markdown",
   "metadata": {},
   "source": [
    "Recognize any of them?"
   ]
  },
  {
   "cell_type": "markdown",
   "metadata": {},
   "source": [
    "So far we've only been using `where` with the predicate that requires finding the values in a column to be *exactly* equal to a certain value. However, there are many other predicates. Here are a few:\n",
    "\n",
    "|Predicate|Example|Result|\n",
    "|-|-|-|\n",
    "|`are.equal_to`|`are.equal_to(50)`|Find rows with values equal to 50|\n",
    "|`are.not_equal_to`|`are.not_equal_to(50)`|Find rows with values not equal to 50|\n",
    "|`are.above`|`are.above(50)`|Find rows with values above (and not equal to) 50|\n",
    "|`are.above_or_equal_to`|`are.above_or_equal_to(50)`|Find rows with values above 50 or equal to 50|\n",
    "|`are.below`|`are.below(50)`|Find rows with values below 50|\n",
    "|`are.between`|`are.between(2, 10)`|Find rows with values above or equal to 2 and below 10|"
   ]
  },
  {
   "cell_type": "markdown",
   "metadata": {},
   "source": [
    "## 4. Analyzing a dataset\n",
    "\n",
    "Now that you're familiar with table operations, let’s answer an interesting question about a dataset!\n",
    "\n",
    "Run the cell below to load the `imdb` table. It contains information about the 250 highest-rated movies on IMDb."
   ]
  },
  {
   "cell_type": "code",
   "execution_count": 2,
   "metadata": {
    "scrolled": true
   },
   "outputs": [
    {
     "data": {
      "text/html": [
       "<table border=\"1\" class=\"dataframe\">\n",
       "    <thead>\n",
       "        <tr>\n",
       "            <th>Votes</th> <th>Rating</th> <th>Title</th> <th>Year</th> <th>Decade</th>\n",
       "        </tr>\n",
       "    </thead>\n",
       "    <tbody>\n",
       "        <tr>\n",
       "            <td>88355 </td> <td>8.4   </td> <td>M                    </td> <td>1931</td> <td>1930  </td>\n",
       "        </tr>\n",
       "        <tr>\n",
       "            <td>132823</td> <td>8.3   </td> <td>Singin' in the Rain  </td> <td>1952</td> <td>1950  </td>\n",
       "        </tr>\n",
       "        <tr>\n",
       "            <td>74178 </td> <td>8.3   </td> <td>All About Eve        </td> <td>1950</td> <td>1950  </td>\n",
       "        </tr>\n",
       "        <tr>\n",
       "            <td>635139</td> <td>8.6   </td> <td>Léon                 </td> <td>1994</td> <td>1990  </td>\n",
       "        </tr>\n",
       "        <tr>\n",
       "            <td>145514</td> <td>8.2   </td> <td>The Elephant Man     </td> <td>1980</td> <td>1980  </td>\n",
       "        </tr>\n",
       "        <tr>\n",
       "            <td>425461</td> <td>8.3   </td> <td>Full Metal Jacket    </td> <td>1987</td> <td>1980  </td>\n",
       "        </tr>\n",
       "        <tr>\n",
       "            <td>441174</td> <td>8.1   </td> <td>Gone Girl            </td> <td>2014</td> <td>2010  </td>\n",
       "        </tr>\n",
       "        <tr>\n",
       "            <td>850601</td> <td>8.3   </td> <td>Batman Begins        </td> <td>2005</td> <td>2000  </td>\n",
       "        </tr>\n",
       "        <tr>\n",
       "            <td>37664 </td> <td>8.2   </td> <td>Judgment at Nuremberg</td> <td>1961</td> <td>1960  </td>\n",
       "        </tr>\n",
       "        <tr>\n",
       "            <td>46987 </td> <td>8     </td> <td>Relatos salvajes     </td> <td>2014</td> <td>2010  </td>\n",
       "        </tr>\n",
       "    </tbody>\n",
       "</table>\n",
       "<p>... (240 rows omitted)</p>"
      ],
      "text/plain": [
       "Votes  | Rating | Title                 | Year | Decade\n",
       "88355  | 8.4    | M                     | 1931 | 1930\n",
       "132823 | 8.3    | Singin' in the Rain   | 1952 | 1950\n",
       "74178  | 8.3    | All About Eve         | 1950 | 1950\n",
       "635139 | 8.6    | Léon                  | 1994 | 1990\n",
       "145514 | 8.2    | The Elephant Man      | 1980 | 1980\n",
       "425461 | 8.3    | Full Metal Jacket     | 1987 | 1980\n",
       "441174 | 8.1    | Gone Girl             | 2014 | 2010\n",
       "850601 | 8.3    | Batman Begins         | 2005 | 2000\n",
       "37664  | 8.2    | Judgment at Nuremberg | 1961 | 1960\n",
       "46987  | 8      | Relatos salvajes      | 2014 | 2010\n",
       "... (240 rows omitted)"
      ]
     },
     "execution_count": 2,
     "metadata": {},
     "output_type": "execute_result"
    }
   ],
   "source": [
    "# Just run this cell\n",
    "\n",
    "imdb = Table.read_table('imdb.csv')\n",
    "imdb"
   ]
  },
  {
   "cell_type": "markdown",
   "metadata": {},
   "source": [
    "Often, we want to perform multiple operations - sorting, filtering, or others - in order to turn a table we have into something more useful. You can do these operations one by one, e.g.\n",
    "\n",
    "```\n",
    "first_step = original_tbl.where(“col1”, are.equal_to(12))\n",
    "second_step = first_step.sort(‘col2’, descending=True)\n",
    "```\n",
    "\n",
    "However, since the value of the expression `original_tbl.where(“col1”, are.equal_to(12))` is itself a table, you can just call a table method on it:\n",
    "\n",
    "```\n",
    "original_tbl.where(“col1”, are.equal_to(12)).sort(‘col2’, descending=True)\n",
    "```\n",
    "You should organize your work in the way that makes the most sense to you, using informative names for any intermediate tables you create. "
   ]
  },
  {
   "cell_type": "markdown",
   "metadata": {
    "deletable": false,
    "editable": false
   },
   "source": [
    "**Question 4.1.** Create a table of movies released between 2010 and 2016 (inclusive) with ratings above 8. The table should only contain the columns `Title` and `Rating`, **in that order**.\n",
    "\n",
    "Assign the table to the name `above_eight`.\n",
    "\n",
    "*Hint:* Think about the steps you need to take, and try to put them in an order that make sense. Feel free to create intermediate tables for each step, but please make sure you assign your final table the name `above_eight`!\n",
    "\n",
    "<!--\n",
    "BEGIN QUESTION\n",
    "name: q41\n",
    "-->"
   ]
  },
  {
   "cell_type": "code",
   "execution_count": 8,
   "metadata": {
    "scrolled": false
   },
   "outputs": [
    {
     "data": {
      "text/html": [
       "<table border=\"1\" class=\"dataframe\">\n",
       "    <thead>\n",
       "        <tr>\n",
       "            <th>Rating</th> <th>Title</th>\n",
       "        </tr>\n",
       "    </thead>\n",
       "    <tbody>\n",
       "        <tr>\n",
       "            <td>8.1   </td> <td>Gone Girl               </td>\n",
       "        </tr>\n",
       "        <tr>\n",
       "            <td>8.2   </td> <td>Warrior                 </td>\n",
       "        </tr>\n",
       "        <tr>\n",
       "            <td>8.5   </td> <td>Intouchables            </td>\n",
       "        </tr>\n",
       "        <tr>\n",
       "            <td>8.1   </td> <td>Shutter Island          </td>\n",
       "        </tr>\n",
       "        <tr>\n",
       "            <td>8.1   </td> <td>12 Years a Slave        </td>\n",
       "        </tr>\n",
       "        <tr>\n",
       "            <td>8.5   </td> <td>Inside Out (2015/I)     </td>\n",
       "        </tr>\n",
       "        <tr>\n",
       "            <td>8.2   </td> <td>Jagten                  </td>\n",
       "        </tr>\n",
       "        <tr>\n",
       "            <td>8.3   </td> <td>Toy Story 3             </td>\n",
       "        </tr>\n",
       "        <tr>\n",
       "            <td>8.1   </td> <td>How to Train Your Dragon</td>\n",
       "        </tr>\n",
       "        <tr>\n",
       "            <td>8.6   </td> <td>Interstellar            </td>\n",
       "        </tr>\n",
       "    </tbody>\n",
       "</table>\n",
       "<p>... (10 rows omitted)</p>"
      ],
      "text/plain": [
       "Rating | Title\n",
       "8.1    | Gone Girl\n",
       "8.2    | Warrior\n",
       "8.5    | Intouchables\n",
       "8.1    | Shutter Island\n",
       "8.1    | 12 Years a Slave\n",
       "8.5    | Inside Out (2015/I)\n",
       "8.2    | Jagten\n",
       "8.3    | Toy Story 3\n",
       "8.1    | How to Train Your Dragon\n",
       "8.6    | Interstellar\n",
       "... (10 rows omitted)"
      ]
     },
     "execution_count": 8,
     "metadata": {},
     "output_type": "execute_result"
    }
   ],
   "source": [
    "above_eight = imdb.where(\"Rating\", are.above(8))\n",
    "above_eight = above_eight.where(\"Year\", are.between(2010, 2016))\n",
    "above_eight = above_eight.drop(\"Year\", \"Votes\", \"Decade\")\n",
    "above_eight"
   ]
  },
  {
   "cell_type": "code",
   "execution_count": 9,
   "metadata": {
    "deletable": false,
    "editable": false
   },
   "outputs": [
    {
     "ename": "NameError",
     "evalue": "name 'grader' is not defined",
     "output_type": "error",
     "traceback": [
      "\u001b[1;31m---------------------------------------------------------------------------\u001b[0m",
      "\u001b[1;31mNameError\u001b[0m                                 Traceback (most recent call last)",
      "\u001b[1;32m<ipython-input-9-dfcaa09a6e36>\u001b[0m in \u001b[0;36m<module>\u001b[1;34m\u001b[0m\n\u001b[1;32m----> 1\u001b[1;33m \u001b[0mgrader\u001b[0m\u001b[1;33m.\u001b[0m\u001b[0mcheck\u001b[0m\u001b[1;33m(\u001b[0m\u001b[1;34m\"q41\"\u001b[0m\u001b[1;33m)\u001b[0m\u001b[1;33m\u001b[0m\u001b[1;33m\u001b[0m\u001b[0m\n\u001b[0m",
      "\u001b[1;31mNameError\u001b[0m: name 'grader' is not defined"
     ]
    }
   ],
   "source": [
    "grader.check(\"q41\")"
   ]
  },
  {
   "cell_type": "markdown",
   "metadata": {
    "deletable": false,
    "editable": false
   },
   "source": [
    "**Question 4.2.** Use `num_rows` (and arithmetic) to find the *proportion* of movies in the dataset that were released 1900-1999, and the *proportion* of movies in the dataset that were released in the year 2000 or later.\n",
    "\n",
    "Assign `proportion_in_20th_century` to the proportion of movies in the dataset that were released 1900-1999, and `proportion_in_21st_century` to the proportion of movies in the dataset that were released in the year 2000 or later.\n",
    "\n",
    "*Hint:* The *proportion* of movies released in the 1900's is the *number* of movies released in the 1900's, divided by the *total number* of movies.\n",
    "\n",
    "<!--\n",
    "BEGIN QUESTION\n",
    "name: q42\n",
    "-->"
   ]
  },
  {
   "cell_type": "code",
   "execution_count": 18,
   "metadata": {},
   "outputs": [
    {
     "ename": "NameError",
     "evalue": "name 'imdb' is not defined",
     "output_type": "error",
     "traceback": [
      "\u001b[1;31m---------------------------------------------------------------------------\u001b[0m",
      "\u001b[1;31mNameError\u001b[0m                                 Traceback (most recent call last)",
      "\u001b[1;32m<ipython-input-18-713d7566c81e>\u001b[0m in \u001b[0;36m<module>\u001b[1;34m\u001b[0m\n\u001b[1;32m----> 1\u001b[1;33m \u001b[0mnum_movies_in_dataset\u001b[0m \u001b[1;33m=\u001b[0m \u001b[0mimdb\u001b[0m\u001b[1;33m.\u001b[0m\u001b[0mnum_rows\u001b[0m\u001b[1;33m\u001b[0m\u001b[1;33m\u001b[0m\u001b[0m\n\u001b[0m\u001b[0;32m      2\u001b[0m \u001b[0mnum_in_20th_century\u001b[0m \u001b[1;33m=\u001b[0m \u001b[0mimdb\u001b[0m\u001b[1;33m.\u001b[0m\u001b[0mwhere\u001b[0m\u001b[1;33m(\u001b[0m\u001b[1;34m\"Year\"\u001b[0m\u001b[1;33m,\u001b[0m \u001b[0mare\u001b[0m\u001b[1;33m.\u001b[0m\u001b[0mbetween\u001b[0m\u001b[1;33m(\u001b[0m\u001b[1;36m1900\u001b[0m\u001b[1;33m,\u001b[0m \u001b[1;36m1999\u001b[0m\u001b[1;33m)\u001b[0m\u001b[1;33m)\u001b[0m\u001b[1;33m.\u001b[0m\u001b[0mnum_rows\u001b[0m\u001b[1;33m\u001b[0m\u001b[1;33m\u001b[0m\u001b[0m\n\u001b[0;32m      3\u001b[0m \u001b[0mnum_in_21st_century\u001b[0m \u001b[1;33m=\u001b[0m \u001b[0mimdb\u001b[0m\u001b[1;33m.\u001b[0m\u001b[0mwhere\u001b[0m\u001b[1;33m(\u001b[0m\u001b[1;34m\"Year\"\u001b[0m\u001b[1;33m,\u001b[0m \u001b[0mare\u001b[0m\u001b[1;33m.\u001b[0m\u001b[0mbetween\u001b[0m\u001b[1;33m(\u001b[0m\u001b[1;36m2000\u001b[0m\u001b[1;33m,\u001b[0m \u001b[1;36m2999\u001b[0m\u001b[1;33m)\u001b[0m\u001b[1;33m)\u001b[0m\u001b[1;33m.\u001b[0m\u001b[0mnum_rows\u001b[0m\u001b[1;33m\u001b[0m\u001b[1;33m\u001b[0m\u001b[0m\n\u001b[0;32m      4\u001b[0m \u001b[0mproportion_in_20th_century\u001b[0m \u001b[1;33m=\u001b[0m \u001b[0mnum_in_20th_century\u001b[0m \u001b[1;33m/\u001b[0m \u001b[0mnum_movies_in_dataset\u001b[0m\u001b[1;33m\u001b[0m\u001b[1;33m\u001b[0m\u001b[0m\n\u001b[0;32m      5\u001b[0m \u001b[0mproportion_in_21st_century\u001b[0m \u001b[1;33m=\u001b[0m \u001b[0mnum_in_21st_century\u001b[0m \u001b[1;33m/\u001b[0m \u001b[0mnum_movies_in_dataset\u001b[0m\u001b[1;33m\u001b[0m\u001b[1;33m\u001b[0m\u001b[0m\n",
      "\u001b[1;31mNameError\u001b[0m: name 'imdb' is not defined"
     ]
    }
   ],
   "source": [
    "num_movies_in_dataset = imdb.num_rows\n",
    "num_in_20th_century = imdb.where(\"Year\", are.between(1900, 1999)).num_rows\n",
    "num_in_21st_century = imdb.where(\"Year\", are.between(2000, 2999)).num_rows\n",
    "proportion_in_20th_century = num_in_20th_century / num_movies_in_dataset\n",
    "proportion_in_21st_century = num_in_21st_century / num_movies_in_dataset\n",
    "print(\"Proportion in 20th century:\", proportion_in_20th_century)\n",
    "print(\"Proportion in 21st century:\", proportion_in_21st_century)"
   ]
  },
  {
   "cell_type": "code",
   "execution_count": 19,
   "metadata": {
    "deletable": false,
    "editable": false
   },
   "outputs": [
    {
     "ename": "NameError",
     "evalue": "name 'grader' is not defined",
     "output_type": "error",
     "traceback": [
      "\u001b[1;31m---------------------------------------------------------------------------\u001b[0m",
      "\u001b[1;31mNameError\u001b[0m                                 Traceback (most recent call last)",
      "\u001b[1;32m<ipython-input-19-a171c2868a19>\u001b[0m in \u001b[0;36m<module>\u001b[1;34m\u001b[0m\n\u001b[1;32m----> 1\u001b[1;33m \u001b[0mgrader\u001b[0m\u001b[1;33m.\u001b[0m\u001b[0mcheck\u001b[0m\u001b[1;33m(\u001b[0m\u001b[1;34m\"q42\"\u001b[0m\u001b[1;33m)\u001b[0m\u001b[1;33m\u001b[0m\u001b[1;33m\u001b[0m\u001b[0m\n\u001b[0m",
      "\u001b[1;31mNameError\u001b[0m: name 'grader' is not defined"
     ]
    }
   ],
   "source": [
    "grader.check(\"q42\")"
   ]
  },
  {
   "cell_type": "markdown",
   "metadata": {},
   "source": [
    "## 5. Summary\n",
    "\n",
    "For your reference, here's a table of all the functions and methods we saw in this lab. We'll learn more methods to add to this table in the coming week!\n",
    "\n",
    "|Name|Example|Purpose|\n",
    "|-|-|-|\n",
    "|`sort`|`tbl.sort(\"N\")`|Create a copy of a table sorted by the values in a column|\n",
    "|`where`|`tbl.where(\"N\", are.above(2))`|Create a copy of a table with only the rows that match some *predicate*|\n",
    "|`num_rows`|`tbl.num_rows`|Compute the number of rows in a table|\n",
    "|`num_columns`|`tbl.num_columns`|Compute the number of columns in a table|\n",
    "|`select`|`tbl.select(\"N\")`|Create a copy of a table with only some of the columns|\n",
    "|`drop`|`tbl.drop(\"2*N\")`|Create a copy of a table without some of the columns|\n",
    "\n",
    "<br/>\n",
    "\n",
    "Alright! You're finished with lab 2!  Be sure to...\n",
    "- run all the tests (the next cell has a shortcut for that), \n",
    "- **Save and Checkpoint** from the `File` menu,\n",
    "- **run the last cell to submit your work**,\n",
    "- and **ask one of the staff members to check you off**."
   ]
  },
  {
   "cell_type": "markdown",
   "metadata": {
    "deletable": false,
    "editable": false
   },
   "source": [
    "---\n",
    "\n",
    "To double-check your work, the cell below will rerun all of the autograder tests."
   ]
  },
  {
   "cell_type": "code",
   "execution_count": 20,
   "metadata": {
    "deletable": false,
    "editable": false
   },
   "outputs": [
    {
     "ename": "NameError",
     "evalue": "name 'grader' is not defined",
     "output_type": "error",
     "traceback": [
      "\u001b[1;31m---------------------------------------------------------------------------\u001b[0m",
      "\u001b[1;31mNameError\u001b[0m                                 Traceback (most recent call last)",
      "\u001b[1;32m<ipython-input-20-0885c929a0c9>\u001b[0m in \u001b[0;36m<module>\u001b[1;34m\u001b[0m\n\u001b[1;32m----> 1\u001b[1;33m \u001b[0mgrader\u001b[0m\u001b[1;33m.\u001b[0m\u001b[0mcheck_all\u001b[0m\u001b[1;33m(\u001b[0m\u001b[1;33m)\u001b[0m\u001b[1;33m\u001b[0m\u001b[1;33m\u001b[0m\u001b[0m\n\u001b[0m",
      "\u001b[1;31mNameError\u001b[0m: name 'grader' is not defined"
     ]
    }
   ],
   "source": [
    "grader.check_all()"
   ]
  },
  {
   "cell_type": "markdown",
   "metadata": {},
   "source": [
    "## Reflection Questions\n",
    "In the cell below, comment on your experience with this lab\n",
    "1. is the lab intersting? if applicable, which problem is most interesting or least intersting?\n",
    "2. is the lab difficult? if applicable, which problem is mostly hard for you?\n",
    "3. how much time did you spend on lab outside of the class?\n",
    "4. any suggestions/comments on the lab and class in general?"
   ]
  },
  {
   "cell_type": "markdown",
   "metadata": {},
   "source": [
    "..."
   ]
  },
  {
   "cell_type": "markdown",
   "metadata": {},
   "source": [
    "## Data Science Education Survey\n",
    "DATA SCIENCE EDUCATION SURVEY: You are invited to complete a survey about your experiences in data science courses and other programs on campus. Your responses to this survey will be used to understand the strengths and weaknesses of current campus offerings. It will also be used to improve data science education at other campuses around the country. Participation is OPTIONAL. Your participation in the study will not affect your grades. None of your instructors will see your individual responses or whether you participated. The survey should take about 10 minutes. Please complete the survey here: https://berkeley.qualtrics.com/jfe/form/SV_0eJFaM0VcnRDWHs "
   ]
  },
  {
   "cell_type": "markdown",
   "metadata": {
    "deletable": false
   },
   "source": [
    "## Submission\n",
    "\n",
    "Make sure you have run all cells in your notebook in order before running the cell below, so that all images/graphs appear in the output. Then output a pdf file and submit via blackboard."
   ]
  }
 ],
 "metadata": {
  "celltoolbar": "Edit Metadata",
  "history": [
   {
    "code": "# Just run this cell\n\nimport numpy as np\nfrom datascience import *\n\n\n# These lines load the tests.\n# When you log-in please hit return (not shift + return) after typing in your email\n",
    "id": "38b63798e7304efb8cd8b1a7a52bcddb",
    "idx": 2,
    "time": "2021-02-16T04:53:03.752Z",
    "type": "execution"
   },
   {
    "id": "38b63798e7304efb8cd8b1a7a52bcddb",
    "time": "2021-02-16T04:53:09.673Z",
    "type": "completion"
   },
   {
    "code": "near_twenty = radius**2 * math.pi # SOLUTION\nnear_twenty",
    "id": "14c3280f0b54464c85242ba22e7381f1",
    "idx": 12,
    "time": "2021-02-16T08:11:29.080Z",
    "type": "execution"
   },
   {
    "id": "14c3280f0b54464c85242ba22e7381f1",
    "time": "2021-02-16T08:11:29.250Z",
    "type": "completion"
   },
   {
    "code": "# Just run this cell\n\nimport numpy as np\nfrom datascience import *\n\n\n# These lines load the tests.\n# When you log-in please hit return (not shift + return) after typing in your email\n",
    "id": "9104c45c29614eb686d57e49e14e386c",
    "idx": 2,
    "time": "2021-02-16T08:11:36.571Z",
    "type": "execution"
   },
   {
    "code": "new_year = 2020 # SOLUTION\nnew_year",
    "id": "6b6244eb0cb14ef88c50c8077c4a1025",
    "idx": 5,
    "time": "2021-02-16T08:11:36.574Z",
    "type": "execution"
   },
   {
    "code": "#HIDDEN TEST\nnew_year == 2020",
    "id": "cd56254d288b462ba94fb43c0ebc1359",
    "idx": 6,
    "time": "2021-02-16T08:11:36.576Z",
    "type": "execution"
   },
   {
    "code": "import math\nradius = 5\narea_of_circle = radius**2 * math.pi\narea_of_circle",
    "id": "c4b687e408d5479abdc414b6c633c026",
    "idx": 9,
    "time": "2021-02-16T08:11:36.579Z",
    "type": "execution"
   },
   {
    "id": "9104c45c29614eb686d57e49e14e386c",
    "time": "2021-02-16T08:11:38.880Z",
    "type": "completion"
   },
   {
    "id": "6b6244eb0cb14ef88c50c8077c4a1025",
    "time": "2021-02-16T08:11:38.885Z",
    "type": "completion"
   },
   {
    "id": "cd56254d288b462ba94fb43c0ebc1359",
    "time": "2021-02-16T08:11:38.922Z",
    "type": "completion"
   },
   {
    "id": "c4b687e408d5479abdc414b6c633c026",
    "time": "2021-02-16T08:11:38.924Z",
    "type": "completion"
   },
   {
    "code": "near_twenty = radius**2 * math.pi # SOLUTION\nnear_twenty",
    "id": "14c3280f0b54464c85242ba22e7381f1",
    "idx": 12,
    "time": "2021-02-16T08:11:41.398Z",
    "type": "execution"
   },
   {
    "id": "14c3280f0b54464c85242ba22e7381f1",
    "time": "2021-02-16T08:11:41.473Z",
    "type": "completion"
   },
   {
    "code": "# TEST\nround(near_twenty, 8)",
    "id": "a458fc90b75d459785aaf63c1b17a80b",
    "idx": 13,
    "time": "2021-02-16T08:12:21.539Z",
    "type": "execution"
   },
   {
    "id": "a458fc90b75d459785aaf63c1b17a80b",
    "time": "2021-02-16T08:12:21.600Z",
    "type": "completion"
   },
   {
    "code": "near_twenty = math.e ** math.pi - math.pi # SOLUTION\nnear_twenty",
    "id": "14c3280f0b54464c85242ba22e7381f1",
    "idx": 12,
    "time": "2021-02-16T08:13:23.657Z",
    "type": "execution"
   },
   {
    "id": "14c3280f0b54464c85242ba22e7381f1",
    "time": "2021-02-16T08:13:23.739Z",
    "type": "completion"
   },
   {
    "code": "# TEST\nround(near_twenty, 8)",
    "id": "a458fc90b75d459785aaf63c1b17a80b",
    "idx": 13,
    "time": "2021-02-16T08:13:30.429Z",
    "type": "execution"
   },
   {
    "id": "a458fc90b75d459785aaf63c1b17a80b",
    "time": "2021-02-16T08:13:30.497Z",
    "type": "completion"
   },
   {
    "code": "sine_of_pi_over_four = math.sin(math.pi / 4) # SOLUTION\nsine_of_pi_over_four",
    "id": "309cf9facf204c5fbca06e9109147fe8",
    "idx": 16,
    "time": "2021-02-16T08:14:40.418Z",
    "type": "execution"
   },
   {
    "id": "309cf9facf204c5fbca06e9109147fe8",
    "time": "2021-02-16T08:14:40.489Z",
    "type": "completion"
   },
   {
    "code": "# TEST\n# Hint: You can write the sine of 1.5*pi as:\n#   math.sin(1.5 * math.pi)\nimport math\nround(sine_of_pi_over_four, 8)",
    "id": "534b367c21944f3488de2187b6fa31d5",
    "idx": 17,
    "time": "2021-02-16T08:15:39.172Z",
    "type": "execution"
   },
   {
    "id": "534b367c21944f3488de2187b6fa31d5",
    "time": "2021-02-16T08:15:39.240Z",
    "type": "completion"
   },
   {
    "code": "# Calculating logarithms (the logarithm of 8 in base 2).\n# The result is 3 because 2 to the power of 3 is 8.\nmath.log(8, 2)",
    "id": "7c67ab3427ba49888e871707bac58449",
    "idx": 19,
    "time": "2021-02-16T08:16:01.798Z",
    "type": "execution"
   },
   {
    "id": "7c67ab3427ba49888e871707bac58449",
    "time": "2021-02-16T08:16:01.874Z",
    "type": "completion"
   },
   {
    "code": "# Calculating square roots.\nmath.sqrt(5)",
    "id": "8e618a8ace414fa38f6f2c3aaf4711cc",
    "idx": 20,
    "time": "2021-02-16T08:16:04.705Z",
    "type": "execution"
   },
   {
    "id": "8e618a8ace414fa38f6f2c3aaf4711cc",
    "time": "2021-02-16T08:16:04.790Z",
    "type": "completion"
   },
   {
    "code": "# Importing just cos and pi from math.\n# We don't have to use `math.` in front of cos or pi\nfrom math import cos, pi\nprint(cos(pi))\n\n# We do have to use it in front of other functions from math, though\nmath.log(pi)",
    "id": "2aac6edd752f464a8577596dc7b10c1b",
    "idx": 22,
    "time": "2021-02-16T08:16:10.269Z",
    "type": "execution"
   },
   {
    "id": "2aac6edd752f464a8577596dc7b10c1b",
    "time": "2021-02-16T08:16:10.357Z",
    "type": "completion"
   },
   {
    "code": "# Lastly, we can import everything from math using the *\n# Once again, we don't have to use 'math.' beforehand \nfrom math import *\nlog(pi)",
    "id": "161f5c794d4847f2898fd15871db4b2d",
    "idx": 24,
    "time": "2021-02-16T08:16:11.168Z",
    "type": "execution"
   },
   {
    "id": "161f5c794d4847f2898fd15871db4b2d",
    "time": "2021-02-16T08:16:11.232Z",
    "type": "completion"
   },
   {
    "code": "# Just run this cell\n\nfarmers_markets = Table.read_table('farmers_markets.csv')",
    "id": "d71d39971a3b4765834a26779cba57d3",
    "idx": 27,
    "time": "2021-02-16T08:16:16.949Z",
    "type": "execution"
   },
   {
    "id": "d71d39971a3b4765834a26779cba57d3",
    "time": "2021-02-16T08:16:17.584Z",
    "type": "completion"
   },
   {
    "code": "num_farmers_markets_columns = farmers_markets.num_columns # SOLUTION\nprint(\"The table has\", num_farmers_markets_columns, \"columns in it!\")",
    "id": "f1d8353ea3fe4174a10df0c70119b860",
    "idx": 31,
    "time": "2021-02-16T08:21:57.979Z",
    "type": "execution"
   },
   {
    "id": "f1d8353ea3fe4174a10df0c70119b860",
    "time": "2021-02-16T08:21:58.069Z",
    "type": "completion"
   },
   {
    "code": "# HIDDEN TEST\nnum_farmers_markets_columns == 59",
    "id": "c576cbb902764c24aa4f0beb55a685b8",
    "idx": 32,
    "time": "2021-02-16T08:22:37.649Z",
    "type": "execution"
   },
   {
    "id": "c576cbb902764c24aa4f0beb55a685b8",
    "time": "2021-02-16T08:22:37.736Z",
    "type": "completion"
   },
   {
    "code": "# Just run this cell\n\nnum_farmers_markets_rows = farmers_markets.num_rows\nprint(\"The table has\", num_farmers_markets_rows, \"rows in it!\")",
    "id": "d78045d1705748b388e0738c7b903124",
    "idx": 34,
    "time": "2021-02-16T08:22:44.968Z",
    "type": "execution"
   },
   {
    "id": "d78045d1705748b388e0738c7b903124",
    "time": "2021-02-16T08:22:45.045Z",
    "type": "completion"
   },
   {
    "code": "farmers_markets_locations = farmers_markets.select(\"city\", \"State\", \"y\", \"MarketName\", \"x\") # SOLUTION\nfarmers_markets_locations",
    "id": "c661c0d5ebac486b88bac48a85d7193c",
    "idx": 36,
    "time": "2021-02-16T08:24:34.269Z",
    "type": "execution"
   },
   {
    "id": "c661c0d5ebac486b88bac48a85d7193c",
    "time": "2021-02-16T08:24:34.383Z",
    "type": "completion"
   },
   {
    "code": "# TEST\nsorted(farmers_markets_locations.labels)",
    "id": "90060034698440a484cc2a1c89d0a4f2",
    "idx": 37,
    "time": "2021-02-16T08:25:36.293Z",
    "type": "execution"
   },
   {
    "id": "90060034698440a484cc2a1c89d0a4f2",
    "time": "2021-02-16T08:25:36.392Z",
    "type": "completion"
   },
   {
    "code": "# HIDDEN TEST\nsorted(farmers_markets_locations.labels) == ['MarketName', 'State', 'city', 'x', 'y']",
    "id": "90060034698440a484cc2a1c89d0a4f2",
    "idx": 37,
    "time": "2021-02-16T08:26:04.025Z",
    "type": "execution"
   },
   {
    "id": "90060034698440a484cc2a1c89d0a4f2",
    "time": "2021-02-16T08:26:04.097Z",
    "type": "completion"
   },
   {
    "code": "# TEST\nfarmers_markets_locations.num_rows == 8546",
    "id": "6915a30f7e704a7b8af96316833f29ca",
    "idx": 38,
    "time": "2021-02-16T08:26:30.404Z",
    "type": "execution"
   },
   {
    "id": "6915a30f7e704a7b8af96316833f29ca",
    "time": "2021-02-16T08:26:30.478Z",
    "type": "completion"
   },
   {
    "code": "# TEST\nsorted(farmers_markets_locations.labels) == ['MarketName', 'State', 'city', 'x', 'y']",
    "id": "90060034698440a484cc2a1c89d0a4f2",
    "idx": 37,
    "time": "2021-02-16T08:26:36.934Z",
    "type": "execution"
   },
   {
    "id": "90060034698440a484cc2a1c89d0a4f2",
    "time": "2021-02-16T08:26:37.004Z",
    "type": "completion"
   },
   {
    "code": "# TEST\nfarmers_markets_locations.num_rows == 8546",
    "id": "6915a30f7e704a7b8af96316833f29ca",
    "idx": 38,
    "time": "2021-02-16T08:26:37.511Z",
    "type": "execution"
   },
   {
    "id": "6915a30f7e704a7b8af96316833f29ca",
    "time": "2021-02-16T08:26:37.599Z",
    "type": "completion"
   },
   {
    "code": "# HIDDEN TEST\nsorted(farmers_markets_locations.labels) == ['MarketName', 'State', 'city', 'x', 'y']",
    "id": "90060034698440a484cc2a1c89d0a4f2",
    "idx": 37,
    "time": "2021-02-16T08:26:50.086Z",
    "type": "execution"
   },
   {
    "id": "90060034698440a484cc2a1c89d0a4f2",
    "time": "2021-02-16T08:26:50.156Z",
    "type": "completion"
   },
   {
    "code": "# TEST\nfarmers_markets_locations.num_rows == 8546",
    "id": "6915a30f7e704a7b8af96316833f29ca",
    "idx": 38,
    "time": "2021-02-16T08:26:52.154Z",
    "type": "execution"
   },
   {
    "id": "6915a30f7e704a7b8af96316833f29ca",
    "time": "2021-02-16T08:26:52.227Z",
    "type": "completion"
   },
   {
    "code": "farmers_markets_without_fmid = farmers_markets.drop(\"FMID\", \"updateTime\") # SOLUTION\nfarmers_markets_without_fmid",
    "id": "88e101833a3a43f281c8fbe4e5edc41d",
    "idx": 40,
    "time": "2021-02-16T08:28:08.077Z",
    "type": "execution"
   },
   {
    "id": "88e101833a3a43f281c8fbe4e5edc41d",
    "time": "2021-02-16T08:28:10.051Z",
    "type": "completion"
   },
   {
    "code": "# TEST\nfarmers_markets_without_fmid.num_columns",
    "id": "0107ee9d3b6d42b795d6cfe3f4ec045d",
    "idx": 41,
    "time": "2021-02-16T08:29:01.460Z",
    "type": "execution"
   },
   {
    "id": "0107ee9d3b6d42b795d6cfe3f4ec045d",
    "time": "2021-02-16T08:29:01.527Z",
    "type": "completion"
   },
   {
    "code": "# TEST\nfarmers_markets_without_fmid.num_columns == 57",
    "id": "0107ee9d3b6d42b795d6cfe3f4ec045d",
    "idx": 41,
    "time": "2021-02-16T08:29:06.489Z",
    "type": "execution"
   },
   {
    "id": "0107ee9d3b6d42b795d6cfe3f4ec045d",
    "time": "2021-02-16T08:29:06.573Z",
    "type": "completion"
   },
   {
    "code": "# TEST\nprint(sorted(farmers_markets_without_fmid.labels))",
    "id": "a1399913244f44e6a9e7801dd9b67ba7",
    "idx": 42,
    "time": "2021-02-16T08:30:09.349Z",
    "type": "execution"
   },
   {
    "id": "a1399913244f44e6a9e7801dd9b67ba7",
    "time": "2021-02-16T08:30:09.437Z",
    "type": "completion"
   },
   {
    "code": "farmers_markets_locations.sort('x')",
    "id": "4d95bd7f16da4005ba887722861a39dd",
    "idx": 44,
    "time": "2021-02-16T08:30:20.125Z",
    "type": "execution"
   },
   {
    "id": "4d95bd7f16da4005ba887722861a39dd",
    "time": "2021-02-16T08:30:20.238Z",
    "type": "completion"
   },
   {
    "code": "farmers_markets_locations.sort('x', descending=True)",
    "id": "4bb9cd749f8a45b49221d5adc37ee3f6",
    "idx": 46,
    "time": "2021-02-16T08:30:24.250Z",
    "type": "execution"
   },
   {
    "id": "4bb9cd749f8a45b49221d5adc37ee3f6",
    "time": "2021-02-16T08:30:24.336Z",
    "type": "completion"
   },
   {
    "code": "farmers_markets_locations_by_latitude = farmers_markets_locations.sort('y', descending = True) # SOLUTION\nfarmers_markets_locations_by_latitude",
    "id": "c97efa93abf4478aaed3a0c0af8f3446",
    "idx": 48,
    "time": "2021-02-16T08:31:49.614Z",
    "type": "execution"
   },
   {
    "id": "c97efa93abf4478aaed3a0c0af8f3446",
    "time": "2021-02-16T08:31:49.718Z",
    "type": "completion"
   },
   {
    "code": "# TEST\ntype(farmers_markets_locations_by_latitude) == tables.Table",
    "id": "c79101f0a71a42d8a252e4da2cb8f841",
    "idx": 49,
    "time": "2021-02-16T08:32:26.295Z",
    "type": "execution"
   },
   {
    "id": "c79101f0a71a42d8a252e4da2cb8f841",
    "time": "2021-02-16T08:32:26.360Z",
    "type": "completion"
   },
   {
    "code": "# TEST\nlist(farmers_markets_locations_by_latitude.column('y').take(range(3)))",
    "id": "ecdc073691ad4db783cf43f2ed31c132",
    "idx": 50,
    "time": "2021-02-16T08:32:42.926Z",
    "type": "execution"
   },
   {
    "id": "ecdc073691ad4db783cf43f2ed31c132",
    "time": "2021-02-16T08:32:43.860Z",
    "type": "completion"
   },
   {
    "code": "# HIDDEN TEST\nsorted(farmers_markets_locations.labels)",
    "id": "90060034698440a484cc2a1c89d0a4f2",
    "idx": 37,
    "time": "2021-02-16T08:33:17.072Z",
    "type": "execution"
   },
   {
    "id": "90060034698440a484cc2a1c89d0a4f2",
    "time": "2021-02-16T08:33:17.280Z",
    "type": "completion"
   },
   {
    "code": "berkeley_markets = california_farmers_markets.where('city', are.equal_to(\"Berkeley\")) # SOLUTION\nberkeley_markets",
    "id": "ed886e4d66b048178c9e9840557fdf4b",
    "idx": 56,
    "time": "2021-02-16T08:34:30.821Z",
    "type": "execution"
   },
   {
    "id": "ed886e4d66b048178c9e9840557fdf4b",
    "time": "2021-02-16T08:34:31.045Z",
    "type": "completion"
   },
   {
    "code": "# Just run this cell\n\nimport numpy as np\nfrom datascience import *\n\n\n# These lines load the tests.\n# When you log-in please hit return (not shift + return) after typing in your email\n",
    "id": "9104c45c29614eb686d57e49e14e386c",
    "idx": 2,
    "time": "2021-02-16T08:34:37.329Z",
    "type": "execution"
   },
   {
    "code": "new_year = 2020 # SOLUTION\nnew_year",
    "id": "6b6244eb0cb14ef88c50c8077c4a1025",
    "idx": 5,
    "time": "2021-02-16T08:34:37.332Z",
    "type": "execution"
   },
   {
    "code": "#HIDDEN TEST\nnew_year == 2020",
    "id": "cd56254d288b462ba94fb43c0ebc1359",
    "idx": 6,
    "time": "2021-02-16T08:34:37.333Z",
    "type": "execution"
   },
   {
    "code": "import math\nradius = 5\narea_of_circle = radius**2 * math.pi\narea_of_circle",
    "id": "c4b687e408d5479abdc414b6c633c026",
    "idx": 9,
    "time": "2021-02-16T08:34:37.335Z",
    "type": "execution"
   },
   {
    "code": "near_twenty = math.e ** math.pi - math.pi # SOLUTION\nnear_twenty",
    "id": "14c3280f0b54464c85242ba22e7381f1",
    "idx": 12,
    "time": "2021-02-16T08:34:37.337Z",
    "type": "execution"
   },
   {
    "code": "# TEST\nround(near_twenty, 8)",
    "id": "a458fc90b75d459785aaf63c1b17a80b",
    "idx": 13,
    "time": "2021-02-16T08:34:37.339Z",
    "type": "execution"
   },
   {
    "code": "sine_of_pi_over_four = math.sin(math.pi / 4) # SOLUTION\nsine_of_pi_over_four",
    "id": "309cf9facf204c5fbca06e9109147fe8",
    "idx": 16,
    "time": "2021-02-16T08:34:37.364Z",
    "type": "execution"
   },
   {
    "code": "# TEST\n# Hint: You can write the sine of 1.5*pi as:\n#   math.sin(1.5 * math.pi)\nimport math\nround(sine_of_pi_over_four, 8)",
    "id": "534b367c21944f3488de2187b6fa31d5",
    "idx": 17,
    "time": "2021-02-16T08:34:37.366Z",
    "type": "execution"
   },
   {
    "code": "# Calculating logarithms (the logarithm of 8 in base 2).\n# The result is 3 because 2 to the power of 3 is 8.\nmath.log(8, 2)",
    "id": "7c67ab3427ba49888e871707bac58449",
    "idx": 19,
    "time": "2021-02-16T08:34:37.368Z",
    "type": "execution"
   },
   {
    "code": "# Calculating square roots.\nmath.sqrt(5)",
    "id": "8e618a8ace414fa38f6f2c3aaf4711cc",
    "idx": 20,
    "time": "2021-02-16T08:34:37.369Z",
    "type": "execution"
   },
   {
    "code": "# Importing just cos and pi from math.\n# We don't have to use `math.` in front of cos or pi\nfrom math import cos, pi\nprint(cos(pi))\n\n# We do have to use it in front of other functions from math, though\nmath.log(pi)",
    "id": "2aac6edd752f464a8577596dc7b10c1b",
    "idx": 22,
    "time": "2021-02-16T08:34:37.371Z",
    "type": "execution"
   },
   {
    "code": "# Lastly, we can import everything from math using the *\n# Once again, we don't have to use 'math.' beforehand \nfrom math import *\nlog(pi)",
    "id": "161f5c794d4847f2898fd15871db4b2d",
    "idx": 24,
    "time": "2021-02-16T08:34:37.372Z",
    "type": "execution"
   },
   {
    "code": "# Just run this cell\n\nfarmers_markets = Table.read_table('farmers_markets.csv')",
    "id": "d71d39971a3b4765834a26779cba57d3",
    "idx": 27,
    "time": "2021-02-16T08:34:37.374Z",
    "type": "execution"
   },
   {
    "code": "farmers_markets.show(5) # SOLUTION",
    "id": "221a7797806447ff84de2dd296fa365b",
    "idx": 29,
    "time": "2021-02-16T08:34:37.378Z",
    "type": "execution"
   },
   {
    "code": "num_farmers_markets_columns = farmers_markets.num_columns # SOLUTION\nprint(\"The table has\", num_farmers_markets_columns, \"columns in it!\")",
    "id": "f1d8353ea3fe4174a10df0c70119b860",
    "idx": 31,
    "time": "2021-02-16T08:34:37.379Z",
    "type": "execution"
   },
   {
    "code": "# HIDDEN TEST\nnum_farmers_markets_columns == 59",
    "id": "c576cbb902764c24aa4f0beb55a685b8",
    "idx": 32,
    "time": "2021-02-16T08:34:37.382Z",
    "type": "execution"
   },
   {
    "code": "# Just run this cell\n\nnum_farmers_markets_rows = farmers_markets.num_rows\nprint(\"The table has\", num_farmers_markets_rows, \"rows in it!\")",
    "id": "d78045d1705748b388e0738c7b903124",
    "idx": 34,
    "time": "2021-02-16T08:34:37.383Z",
    "type": "execution"
   },
   {
    "code": "farmers_markets_locations = farmers_markets.select(\"city\", \"State\", \"y\", \"MarketName\", \"x\") # SOLUTION\nfarmers_markets_locations",
    "id": "c661c0d5ebac486b88bac48a85d7193c",
    "idx": 36,
    "time": "2021-02-16T08:34:37.385Z",
    "type": "execution"
   },
   {
    "code": "# HIDDEN TEST\nsorted(farmers_markets_locations.labels)",
    "id": "90060034698440a484cc2a1c89d0a4f2",
    "idx": 37,
    "time": "2021-02-16T08:34:37.387Z",
    "type": "execution"
   },
   {
    "code": "# TEST\nfarmers_markets_locations.num_rows == 8546",
    "id": "6915a30f7e704a7b8af96316833f29ca",
    "idx": 38,
    "time": "2021-02-16T08:34:37.388Z",
    "type": "execution"
   },
   {
    "code": "farmers_markets_without_fmid = farmers_markets.drop(\"FMID\", \"updateTime\") # SOLUTION\nfarmers_markets_without_fmid",
    "id": "88e101833a3a43f281c8fbe4e5edc41d",
    "idx": 40,
    "time": "2021-02-16T08:34:37.392Z",
    "type": "execution"
   },
   {
    "code": "# TEST\nfarmers_markets_without_fmid.num_columns == 57",
    "id": "0107ee9d3b6d42b795d6cfe3f4ec045d",
    "idx": 41,
    "time": "2021-02-16T08:34:37.393Z",
    "type": "execution"
   },
   {
    "code": "# TEST\nprint(sorted(farmers_markets_without_fmid.labels))",
    "id": "a1399913244f44e6a9e7801dd9b67ba7",
    "idx": 42,
    "time": "2021-02-16T08:34:37.394Z",
    "type": "execution"
   },
   {
    "code": "farmers_markets_locations.sort('x')",
    "id": "4d95bd7f16da4005ba887722861a39dd",
    "idx": 44,
    "time": "2021-02-16T08:34:37.396Z",
    "type": "execution"
   },
   {
    "code": "farmers_markets_locations.sort('x', descending=True)",
    "id": "4bb9cd749f8a45b49221d5adc37ee3f6",
    "idx": 46,
    "time": "2021-02-16T08:34:37.399Z",
    "type": "execution"
   },
   {
    "code": "farmers_markets_locations_by_latitude = farmers_markets_locations.sort('y', descending = True) # SOLUTION\nfarmers_markets_locations_by_latitude",
    "id": "c97efa93abf4478aaed3a0c0af8f3446",
    "idx": 48,
    "time": "2021-02-16T08:34:37.400Z",
    "type": "execution"
   },
   {
    "code": "# TEST\ntype(farmers_markets_locations_by_latitude) == tables.Table",
    "id": "c79101f0a71a42d8a252e4da2cb8f841",
    "idx": 49,
    "time": "2021-02-16T08:34:37.402Z",
    "type": "execution"
   },
   {
    "code": "# TEST\nlist(farmers_markets_locations_by_latitude.column('y').take(range(3)))",
    "id": "ecdc073691ad4db783cf43f2ed31c132",
    "idx": 50,
    "time": "2021-02-16T08:34:37.405Z",
    "type": "execution"
   },
   {
    "code": "california_farmers_markets = farmers_markets_locations.where('State', are.equal_to('California'))\ncalifornia_farmers_markets",
    "id": "d6b1384d7d5442408204eac1fa8ae4ae",
    "idx": 52,
    "time": "2021-02-16T08:34:37.407Z",
    "type": "execution"
   },
   {
    "id": "9104c45c29614eb686d57e49e14e386c",
    "time": "2021-02-16T08:34:37.491Z",
    "type": "completion"
   },
   {
    "id": "6b6244eb0cb14ef88c50c8077c4a1025",
    "time": "2021-02-16T08:34:37.494Z",
    "type": "completion"
   },
   {
    "id": "cd56254d288b462ba94fb43c0ebc1359",
    "time": "2021-02-16T08:34:37.496Z",
    "type": "completion"
   },
   {
    "id": "c4b687e408d5479abdc414b6c633c026",
    "time": "2021-02-16T08:34:37.497Z",
    "type": "completion"
   },
   {
    "id": "14c3280f0b54464c85242ba22e7381f1",
    "time": "2021-02-16T08:34:37.500Z",
    "type": "completion"
   },
   {
    "id": "a458fc90b75d459785aaf63c1b17a80b",
    "time": "2021-02-16T08:34:37.526Z",
    "type": "completion"
   },
   {
    "id": "309cf9facf204c5fbca06e9109147fe8",
    "time": "2021-02-16T08:34:37.558Z",
    "type": "completion"
   },
   {
    "id": "534b367c21944f3488de2187b6fa31d5",
    "time": "2021-02-16T08:34:37.560Z",
    "type": "completion"
   },
   {
    "id": "7c67ab3427ba49888e871707bac58449",
    "time": "2021-02-16T08:34:37.582Z",
    "type": "completion"
   },
   {
    "id": "8e618a8ace414fa38f6f2c3aaf4711cc",
    "time": "2021-02-16T08:34:37.606Z",
    "type": "completion"
   },
   {
    "id": "2aac6edd752f464a8577596dc7b10c1b",
    "time": "2021-02-16T08:34:37.655Z",
    "type": "completion"
   },
   {
    "id": "161f5c794d4847f2898fd15871db4b2d",
    "time": "2021-02-16T08:34:37.665Z",
    "type": "completion"
   },
   {
    "id": "d71d39971a3b4765834a26779cba57d3",
    "time": "2021-02-16T08:34:38.110Z",
    "type": "completion"
   },
   {
    "id": "221a7797806447ff84de2dd296fa365b",
    "time": "2021-02-16T08:34:38.123Z",
    "type": "completion"
   },
   {
    "id": "f1d8353ea3fe4174a10df0c70119b860",
    "time": "2021-02-16T08:34:38.162Z",
    "type": "completion"
   },
   {
    "id": "c576cbb902764c24aa4f0beb55a685b8",
    "time": "2021-02-16T08:34:38.164Z",
    "type": "completion"
   },
   {
    "id": "d78045d1705748b388e0738c7b903124",
    "time": "2021-02-16T08:34:38.188Z",
    "type": "completion"
   },
   {
    "id": "c661c0d5ebac486b88bac48a85d7193c",
    "time": "2021-02-16T08:34:38.238Z",
    "type": "completion"
   },
   {
    "id": "90060034698440a484cc2a1c89d0a4f2",
    "time": "2021-02-16T08:34:38.242Z",
    "type": "completion"
   },
   {
    "id": "6915a30f7e704a7b8af96316833f29ca",
    "time": "2021-02-16T08:34:38.269Z",
    "type": "completion"
   },
   {
    "id": "88e101833a3a43f281c8fbe4e5edc41d",
    "time": "2021-02-16T08:34:38.438Z",
    "type": "completion"
   },
   {
    "id": "0107ee9d3b6d42b795d6cfe3f4ec045d",
    "time": "2021-02-16T08:34:38.479Z",
    "type": "completion"
   },
   {
    "id": "a1399913244f44e6a9e7801dd9b67ba7",
    "time": "2021-02-16T08:34:38.482Z",
    "type": "completion"
   },
   {
    "id": "4d95bd7f16da4005ba887722861a39dd",
    "time": "2021-02-16T08:34:38.527Z",
    "type": "completion"
   },
   {
    "id": "4bb9cd749f8a45b49221d5adc37ee3f6",
    "time": "2021-02-16T08:34:38.531Z",
    "type": "completion"
   },
   {
    "id": "c97efa93abf4478aaed3a0c0af8f3446",
    "time": "2021-02-16T08:34:38.562Z",
    "type": "completion"
   },
   {
    "id": "c79101f0a71a42d8a252e4da2cb8f841",
    "time": "2021-02-16T08:34:38.567Z",
    "type": "completion"
   },
   {
    "id": "ecdc073691ad4db783cf43f2ed31c132",
    "time": "2021-02-16T08:34:38.570Z",
    "type": "completion"
   },
   {
    "id": "d6b1384d7d5442408204eac1fa8ae4ae",
    "time": "2021-02-16T08:34:38.624Z",
    "type": "completion"
   },
   {
    "code": "berkeley_markets = california_farmers_markets.where('city', are.equal_to(\"Berkeley\")) # SOLUTION\nberkeley_markets",
    "id": "ed886e4d66b048178c9e9840557fdf4b",
    "idx": 56,
    "time": "2021-02-16T08:34:41.451Z",
    "type": "execution"
   },
   {
    "id": "ed886e4d66b048178c9e9840557fdf4b",
    "time": "2021-02-16T08:34:41.595Z",
    "type": "completion"
   },
   {
    "code": "# TEST\nberkeley_markets.num_rows == 3",
    "id": "9549beef875c4953ab13e533d42edd71",
    "idx": 57,
    "time": "2021-02-16T08:35:17.237Z",
    "type": "execution"
   },
   {
    "id": "9549beef875c4953ab13e533d42edd71",
    "time": "2021-02-16T08:35:17.310Z",
    "type": "completion"
   },
   {
    "code": "# TEST\nlist(berkeley_markets.column('city')) == ['Berkeley', 'Berkeley', 'Berkeley']",
    "id": "9406b57a66ca4f209dd18789a0ac339c",
    "idx": 58,
    "time": "2021-02-16T08:35:51.241Z",
    "type": "execution"
   },
   {
    "id": "9406b57a66ca4f209dd18789a0ac339c",
    "time": "2021-02-16T08:35:51.328Z",
    "type": "completion"
   },
   {
    "code": "above_eight = imdb.where('Year', are.between(2010, 2017)).where('Rating', are.above(8)).select('Title', 'Rating') # SOLUTION\nabove_eight",
    "id": "0bdc63c61ddd4cfd8cc080152f5b8a5a",
    "idx": 65,
    "time": "2021-02-16T08:37:05.820Z",
    "type": "execution"
   },
   {
    "id": "0bdc63c61ddd4cfd8cc080152f5b8a5a",
    "time": "2021-02-16T08:37:05.956Z",
    "type": "completion"
   },
   {
    "code": "# Just run this cell\n\nimport numpy as np\nfrom datascience import *\n\n\n# These lines load the tests.\n# When you log-in please hit return (not shift + return) after typing in your email\n",
    "id": "9104c45c29614eb686d57e49e14e386c",
    "idx": 2,
    "time": "2021-02-16T08:37:10.041Z",
    "type": "execution"
   },
   {
    "code": "new_year = 2020 # SOLUTION\nnew_year",
    "id": "6b6244eb0cb14ef88c50c8077c4a1025",
    "idx": 5,
    "time": "2021-02-16T08:37:10.043Z",
    "type": "execution"
   },
   {
    "code": "#HIDDEN TEST\nnew_year == 2020",
    "id": "cd56254d288b462ba94fb43c0ebc1359",
    "idx": 6,
    "time": "2021-02-16T08:37:10.045Z",
    "type": "execution"
   },
   {
    "code": "import math\nradius = 5\narea_of_circle = radius**2 * math.pi\narea_of_circle",
    "id": "c4b687e408d5479abdc414b6c633c026",
    "idx": 9,
    "time": "2021-02-16T08:37:10.048Z",
    "type": "execution"
   },
   {
    "code": "near_twenty = math.e ** math.pi - math.pi # SOLUTION\nnear_twenty",
    "id": "14c3280f0b54464c85242ba22e7381f1",
    "idx": 12,
    "time": "2021-02-16T08:37:10.050Z",
    "type": "execution"
   },
   {
    "code": "# TEST\nround(near_twenty, 8)",
    "id": "a458fc90b75d459785aaf63c1b17a80b",
    "idx": 13,
    "time": "2021-02-16T08:37:10.051Z",
    "type": "execution"
   },
   {
    "code": "sine_of_pi_over_four = math.sin(math.pi / 4) # SOLUTION\nsine_of_pi_over_four",
    "id": "309cf9facf204c5fbca06e9109147fe8",
    "idx": 16,
    "time": "2021-02-16T08:37:10.053Z",
    "type": "execution"
   },
   {
    "code": "# TEST\n# Hint: You can write the sine of 1.5*pi as:\n#   math.sin(1.5 * math.pi)\nimport math\nround(sine_of_pi_over_four, 8)",
    "id": "534b367c21944f3488de2187b6fa31d5",
    "idx": 17,
    "time": "2021-02-16T08:37:10.055Z",
    "type": "execution"
   },
   {
    "code": "# Calculating logarithms (the logarithm of 8 in base 2).\n# The result is 3 because 2 to the power of 3 is 8.\nmath.log(8, 2)",
    "id": "7c67ab3427ba49888e871707bac58449",
    "idx": 19,
    "time": "2021-02-16T08:37:10.057Z",
    "type": "execution"
   },
   {
    "code": "# Calculating square roots.\nmath.sqrt(5)",
    "id": "8e618a8ace414fa38f6f2c3aaf4711cc",
    "idx": 20,
    "time": "2021-02-16T08:37:10.059Z",
    "type": "execution"
   },
   {
    "code": "# Importing just cos and pi from math.\n# We don't have to use `math.` in front of cos or pi\nfrom math import cos, pi\nprint(cos(pi))\n\n# We do have to use it in front of other functions from math, though\nmath.log(pi)",
    "id": "2aac6edd752f464a8577596dc7b10c1b",
    "idx": 22,
    "time": "2021-02-16T08:37:10.061Z",
    "type": "execution"
   },
   {
    "code": "# Lastly, we can import everything from math using the *\n# Once again, we don't have to use 'math.' beforehand \nfrom math import *\nlog(pi)",
    "id": "161f5c794d4847f2898fd15871db4b2d",
    "idx": 24,
    "time": "2021-02-16T08:37:10.063Z",
    "type": "execution"
   },
   {
    "code": "# Just run this cell\n\nfarmers_markets = Table.read_table('farmers_markets.csv')",
    "id": "d71d39971a3b4765834a26779cba57d3",
    "idx": 27,
    "time": "2021-02-16T08:37:10.065Z",
    "type": "execution"
   },
   {
    "code": "farmers_markets.show(5) # SOLUTION",
    "id": "221a7797806447ff84de2dd296fa365b",
    "idx": 29,
    "time": "2021-02-16T08:37:10.069Z",
    "type": "execution"
   },
   {
    "code": "num_farmers_markets_columns = farmers_markets.num_columns # SOLUTION\nprint(\"The table has\", num_farmers_markets_columns, \"columns in it!\")",
    "id": "f1d8353ea3fe4174a10df0c70119b860",
    "idx": 31,
    "time": "2021-02-16T08:37:10.070Z",
    "type": "execution"
   },
   {
    "code": "# HIDDEN TEST\nnum_farmers_markets_columns == 59",
    "id": "c576cbb902764c24aa4f0beb55a685b8",
    "idx": 32,
    "time": "2021-02-16T08:37:10.072Z",
    "type": "execution"
   },
   {
    "code": "# Just run this cell\n\nnum_farmers_markets_rows = farmers_markets.num_rows\nprint(\"The table has\", num_farmers_markets_rows, \"rows in it!\")",
    "id": "d78045d1705748b388e0738c7b903124",
    "idx": 34,
    "time": "2021-02-16T08:37:10.074Z",
    "type": "execution"
   },
   {
    "code": "farmers_markets_locations = farmers_markets.select(\"city\", \"State\", \"y\", \"MarketName\", \"x\") # SOLUTION\nfarmers_markets_locations",
    "id": "c661c0d5ebac486b88bac48a85d7193c",
    "idx": 36,
    "time": "2021-02-16T08:37:10.076Z",
    "type": "execution"
   },
   {
    "code": "# HIDDEN TEST\nsorted(farmers_markets_locations.labels)",
    "id": "90060034698440a484cc2a1c89d0a4f2",
    "idx": 37,
    "time": "2021-02-16T08:37:10.078Z",
    "type": "execution"
   },
   {
    "code": "# TEST\nfarmers_markets_locations.num_rows == 8546",
    "id": "6915a30f7e704a7b8af96316833f29ca",
    "idx": 38,
    "time": "2021-02-16T08:37:10.079Z",
    "type": "execution"
   },
   {
    "code": "farmers_markets_without_fmid = farmers_markets.drop(\"FMID\", \"updateTime\") # SOLUTION\nfarmers_markets_without_fmid",
    "id": "88e101833a3a43f281c8fbe4e5edc41d",
    "idx": 40,
    "time": "2021-02-16T08:37:10.084Z",
    "type": "execution"
   },
   {
    "code": "# TEST\nfarmers_markets_without_fmid.num_columns == 57",
    "id": "0107ee9d3b6d42b795d6cfe3f4ec045d",
    "idx": 41,
    "time": "2021-02-16T08:37:10.085Z",
    "type": "execution"
   },
   {
    "code": "# TEST\nprint(sorted(farmers_markets_without_fmid.labels))",
    "id": "a1399913244f44e6a9e7801dd9b67ba7",
    "idx": 42,
    "time": "2021-02-16T08:37:10.087Z",
    "type": "execution"
   },
   {
    "code": "farmers_markets_locations.sort('x')",
    "id": "4d95bd7f16da4005ba887722861a39dd",
    "idx": 44,
    "time": "2021-02-16T08:37:10.089Z",
    "type": "execution"
   },
   {
    "code": "farmers_markets_locations.sort('x', descending=True)",
    "id": "4bb9cd749f8a45b49221d5adc37ee3f6",
    "idx": 46,
    "time": "2021-02-16T08:37:10.091Z",
    "type": "execution"
   },
   {
    "code": "farmers_markets_locations_by_latitude = farmers_markets_locations.sort('y', descending = True) # SOLUTION\nfarmers_markets_locations_by_latitude",
    "id": "c97efa93abf4478aaed3a0c0af8f3446",
    "idx": 48,
    "time": "2021-02-16T08:37:10.092Z",
    "type": "execution"
   },
   {
    "code": "# TEST\ntype(farmers_markets_locations_by_latitude) == tables.Table",
    "id": "c79101f0a71a42d8a252e4da2cb8f841",
    "idx": 49,
    "time": "2021-02-16T08:37:10.094Z",
    "type": "execution"
   },
   {
    "code": "# TEST\nlist(farmers_markets_locations_by_latitude.column('y').take(range(3)))",
    "id": "ecdc073691ad4db783cf43f2ed31c132",
    "idx": 50,
    "time": "2021-02-16T08:37:10.096Z",
    "type": "execution"
   },
   {
    "code": "california_farmers_markets = farmers_markets_locations.where('State', are.equal_to('California'))\ncalifornia_farmers_markets",
    "id": "d6b1384d7d5442408204eac1fa8ae4ae",
    "idx": 52,
    "time": "2021-02-16T08:37:10.098Z",
    "type": "execution"
   },
   {
    "code": "berkeley_markets = california_farmers_markets.where('city', are.equal_to(\"Berkeley\")) # SOLUTION\nberkeley_markets",
    "id": "ed886e4d66b048178c9e9840557fdf4b",
    "idx": 56,
    "time": "2021-02-16T08:37:10.100Z",
    "type": "execution"
   },
   {
    "code": "# TEST\nberkeley_markets.num_rows == 3",
    "id": "9549beef875c4953ab13e533d42edd71",
    "idx": 57,
    "time": "2021-02-16T08:37:10.101Z",
    "type": "execution"
   },
   {
    "code": "# TEST\nlist(berkeley_markets.column('city')) == ['Berkeley', 'Berkeley', 'Berkeley']",
    "id": "9406b57a66ca4f209dd18789a0ac339c",
    "idx": 58,
    "time": "2021-02-16T08:37:10.103Z",
    "type": "execution"
   },
   {
    "code": "# Just run this cell\n\nimdb = Table.read_table('imdb.csv')\nimdb",
    "id": "1a5d75aab64340d386bcf9b8ed037ab5",
    "idx": 62,
    "time": "2021-02-16T08:37:10.105Z",
    "type": "execution"
   },
   {
    "id": "9104c45c29614eb686d57e49e14e386c",
    "time": "2021-02-16T08:37:10.146Z",
    "type": "completion"
   },
   {
    "id": "6b6244eb0cb14ef88c50c8077c4a1025",
    "time": "2021-02-16T08:37:10.149Z",
    "type": "completion"
   },
   {
    "id": "cd56254d288b462ba94fb43c0ebc1359",
    "time": "2021-02-16T08:37:10.172Z",
    "type": "completion"
   },
   {
    "id": "c4b687e408d5479abdc414b6c633c026",
    "time": "2021-02-16T08:37:10.217Z",
    "type": "completion"
   },
   {
    "id": "14c3280f0b54464c85242ba22e7381f1",
    "time": "2021-02-16T08:37:10.222Z",
    "type": "completion"
   },
   {
    "id": "a458fc90b75d459785aaf63c1b17a80b",
    "time": "2021-02-16T08:37:10.277Z",
    "type": "completion"
   },
   {
    "id": "309cf9facf204c5fbca06e9109147fe8",
    "time": "2021-02-16T08:37:10.306Z",
    "type": "completion"
   },
   {
    "id": "534b367c21944f3488de2187b6fa31d5",
    "time": "2021-02-16T08:37:10.346Z",
    "type": "completion"
   },
   {
    "id": "7c67ab3427ba49888e871707bac58449",
    "time": "2021-02-16T08:37:10.369Z",
    "type": "completion"
   },
   {
    "id": "8e618a8ace414fa38f6f2c3aaf4711cc",
    "time": "2021-02-16T08:37:10.393Z",
    "type": "completion"
   },
   {
    "id": "2aac6edd752f464a8577596dc7b10c1b",
    "time": "2021-02-16T08:37:10.401Z",
    "type": "completion"
   },
   {
    "id": "161f5c794d4847f2898fd15871db4b2d",
    "time": "2021-02-16T08:37:10.422Z",
    "type": "completion"
   },
   {
    "id": "d71d39971a3b4765834a26779cba57d3",
    "time": "2021-02-16T08:37:10.762Z",
    "type": "completion"
   },
   {
    "id": "221a7797806447ff84de2dd296fa365b",
    "time": "2021-02-16T08:37:10.810Z",
    "type": "completion"
   },
   {
    "id": "f1d8353ea3fe4174a10df0c70119b860",
    "time": "2021-02-16T08:37:10.812Z",
    "type": "completion"
   },
   {
    "id": "c576cbb902764c24aa4f0beb55a685b8",
    "time": "2021-02-16T08:37:10.814Z",
    "type": "completion"
   },
   {
    "id": "d78045d1705748b388e0738c7b903124",
    "time": "2021-02-16T08:37:10.846Z",
    "type": "completion"
   },
   {
    "id": "c661c0d5ebac486b88bac48a85d7193c",
    "time": "2021-02-16T08:37:10.880Z",
    "type": "completion"
   },
   {
    "id": "90060034698440a484cc2a1c89d0a4f2",
    "time": "2021-02-16T08:37:10.903Z",
    "type": "completion"
   },
   {
    "id": "6915a30f7e704a7b8af96316833f29ca",
    "time": "2021-02-16T08:37:10.929Z",
    "type": "completion"
   },
   {
    "id": "88e101833a3a43f281c8fbe4e5edc41d",
    "time": "2021-02-16T08:37:11.140Z",
    "type": "completion"
   },
   {
    "id": "0107ee9d3b6d42b795d6cfe3f4ec045d",
    "time": "2021-02-16T08:37:11.146Z",
    "type": "completion"
   },
   {
    "id": "a1399913244f44e6a9e7801dd9b67ba7",
    "time": "2021-02-16T08:37:11.148Z",
    "type": "completion"
   },
   {
    "id": "4d95bd7f16da4005ba887722861a39dd",
    "time": "2021-02-16T08:37:11.151Z",
    "type": "completion"
   },
   {
    "id": "4bb9cd749f8a45b49221d5adc37ee3f6",
    "time": "2021-02-16T08:37:11.177Z",
    "type": "completion"
   },
   {
    "id": "c97efa93abf4478aaed3a0c0af8f3446",
    "time": "2021-02-16T08:37:11.227Z",
    "type": "completion"
   },
   {
    "id": "c79101f0a71a42d8a252e4da2cb8f841",
    "time": "2021-02-16T08:37:11.229Z",
    "type": "completion"
   },
   {
    "id": "ecdc073691ad4db783cf43f2ed31c132",
    "time": "2021-02-16T08:37:11.259Z",
    "type": "completion"
   },
   {
    "id": "d6b1384d7d5442408204eac1fa8ae4ae",
    "time": "2021-02-16T08:37:11.288Z",
    "type": "completion"
   },
   {
    "id": "ed886e4d66b048178c9e9840557fdf4b",
    "time": "2021-02-16T08:37:11.295Z",
    "type": "completion"
   },
   {
    "id": "9549beef875c4953ab13e533d42edd71",
    "time": "2021-02-16T08:37:11.298Z",
    "type": "completion"
   },
   {
    "id": "9406b57a66ca4f209dd18789a0ac339c",
    "time": "2021-02-16T08:37:11.324Z",
    "type": "completion"
   },
   {
    "id": "1a5d75aab64340d386bcf9b8ed037ab5",
    "time": "2021-02-16T08:37:11.375Z",
    "type": "completion"
   },
   {
    "code": "above_eight = imdb.where('Year', are.between(2010, 2017)).where('Rating', are.above(8)).select('Title', 'Rating') # SOLUTION\nabove_eight",
    "id": "0bdc63c61ddd4cfd8cc080152f5b8a5a",
    "idx": 65,
    "time": "2021-02-16T08:37:13.832Z",
    "type": "execution"
   },
   {
    "id": "0bdc63c61ddd4cfd8cc080152f5b8a5a",
    "time": "2021-02-16T08:37:13.908Z",
    "type": "completion"
   },
   {
    "code": "# TEST\nabove_eight.num_rows == 20",
    "id": "f8c595cf25f342fe8ae63ba0fa78b906",
    "idx": 66,
    "time": "2021-02-16T08:38:01.173Z",
    "type": "execution"
   },
   {
    "id": "f8c595cf25f342fe8ae63ba0fa78b906",
    "time": "2021-02-16T08:38:01.305Z",
    "type": "completion"
   },
   {
    "code": "# TEST\ntype(above_eight) == tables.Table",
    "id": "f8c595cf25f342fe8ae63ba0fa78b906",
    "idx": 66,
    "time": "2021-02-16T08:38:31.611Z",
    "type": "execution"
   },
   {
    "id": "f8c595cf25f342fe8ae63ba0fa78b906",
    "time": "2021-02-16T08:38:31.685Z",
    "type": "completion"
   },
   {
    "code": "# TEST\nabove_eight.num_rows == 20",
    "id": "8aa9c1defa0d425b9895cf473178fe8f",
    "idx": 67,
    "time": "2021-02-16T08:38:32.171Z",
    "type": "execution"
   },
   {
    "id": "8aa9c1defa0d425b9895cf473178fe8f",
    "time": "2021-02-16T08:38:32.295Z",
    "type": "completion"
   },
   {
    "code": "# TEST\n# Make sure your columns are in the right order!\n# First column should be 'Title', second column should be 'Rating'\nprint(above_eight.sort(0).take([17]))",
    "id": "d129b87619634c298f5e616c6b5411e1",
    "idx": 68,
    "time": "2021-02-16T08:39:13.833Z",
    "type": "execution"
   },
   {
    "id": "d129b87619634c298f5e616c6b5411e1",
    "time": "2021-02-16T08:39:13.897Z",
    "type": "completion"
   },
   {
    "code": "num_movies_in_dataset = imdb.num_rows # SOLUTION\nnum_in_20th_century = imdb.where('Year', are.below(2000)).num_rows # SOLUTION\nnum_in_21st_century = imdb.where('Year', are.above_or_equal_to(2000)).num_rows # SOLUTION\nproportion_in_20th_century = num_in_20th_century / num_movies_in_dataset # SOLUTION\nproportion_in_21st_century = num_in_21st_century / num_movies_in_dataset # SOLUTION\nprint(\"Proportion in 20th century:\", proportion_in_20th_century)\nprint(\"Proportion in 21st century:\", proportion_in_21st_century)",
    "id": "971381be596347fba06f2b4905874100",
    "idx": 70,
    "time": "2021-02-16T08:41:30.945Z",
    "type": "execution"
   },
   {
    "id": "971381be596347fba06f2b4905874100",
    "time": "2021-02-16T08:41:31.032Z",
    "type": "completion"
   },
   {
    "code": "# HIDDEN TEST\nproportion_in_20th_century == 0.684",
    "id": "28fb10b6b71f407a9c6689b9c4b352f7",
    "idx": 71,
    "time": "2021-02-16T08:42:01.990Z",
    "type": "execution"
   },
   {
    "id": "28fb10b6b71f407a9c6689b9c4b352f7",
    "time": "2021-02-16T08:42:03.529Z",
    "type": "completion"
   },
   {
    "code": "# HIDDEN TEST\nproportion_in_21st_century == 0.316",
    "id": "d3e1ba07ac3347b295d42fbb8a0bf6ef",
    "idx": 72,
    "time": "2021-02-16T08:42:23.363Z",
    "type": "execution"
   },
   {
    "id": "d3e1ba07ac3347b295d42fbb8a0bf6ef",
    "time": "2021-02-16T08:42:23.425Z",
    "type": "completion"
   }
  ],
  "kernelspec": {
   "display_name": "Python 3",
   "language": "python",
   "name": "python3"
  },
  "language_info": {
   "codemirror_mode": {
    "name": "ipython",
    "version": 3
   },
   "file_extension": ".py",
   "mimetype": "text/x-python",
   "name": "python",
   "nbconvert_exporter": "python",
   "pygments_lexer": "ipython3",
   "version": "3.8.8"
  }
 },
 "nbformat": 4,
 "nbformat_minor": 2
}
